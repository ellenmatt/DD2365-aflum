{
  "cells": [
    {
      "cell_type": "markdown",
      "metadata": {
        "id": "view-in-github",
        "colab_type": "text"
      },
      "source": [
        "<a href=\"https://colab.research.google.com/github/ellenmatt/DD2365-aflum/blob/main/template-report-Elasticity.ipynb\" target=\"_parent\"><img src=\"https://colab.research.google.com/assets/colab-badge.svg\" alt=\"Open In Colab\"/></a>"
      ]
    },
    {
      "cell_type": "markdown",
      "metadata": {
        "id": "cyCUwzF-wRoW"
      },
      "source": [
        "# **Elasticity equations**\n",
        "**Johan Hoffman**"
      ]
    },
    {
      "cell_type": "markdown",
      "metadata": {
        "id": "9x_J5FVuPzbm"
      },
      "source": [
        "# **Abstract**"
      ]
    },
    {
      "cell_type": "markdown",
      "metadata": {
        "id": "6UFTSzW7P8kL"
      },
      "source": [
        "This short report show an example on how to use FEniCS to solve the Elasticity equations, which is used in the course DD2365 Advanced Computation in Fluid Mechanics, at the KTH Royal Institute of Technology.\n",
        "\n",
        "[DD2365 course website.](https://kth.instructure.com/courses/17071)"
      ]
    },
    {
      "cell_type": "markdown",
      "metadata": {
        "id": "OkT8J7uOWpT3"
      },
      "source": [
        "# **About the code**"
      ]
    },
    {
      "cell_type": "code",
      "execution_count": 1,
      "metadata": {
        "id": "Pdll1Xc9WP0e",
        "outputId": "ecd61528-9a07-4f39-a25f-664c49effe4b",
        "colab": {
          "base_uri": "https://localhost:8080/",
          "height": 36
        }
      },
      "outputs": [
        {
          "output_type": "execute_result",
          "data": {
            "text/plain": [
              "'KTH Royal Institute of Technology, Stockholm, Sweden.'"
            ],
            "application/vnd.google.colaboratory.intrinsic+json": {
              "type": "string"
            }
          },
          "metadata": {},
          "execution_count": 1
        }
      ],
      "source": [
        "\"\"\"This program is an example file for the course\"\"\"\n",
        "\"\"\"DD2365 Advanced Computation in Fluid Mechanics, \"\"\"\n",
        "\"\"\"KTH Royal Institute of Technology, Stockholm, Sweden.\"\"\"\n",
        "\n",
        "# Copyright (C) 2021 Johan Hoffman (jhoffman@kth.se)\n",
        "\n",
        "# This file is part of the course DD2365 Advanced Computation in Fluid Mechanics\n",
        "# KTH Royal Institute of Technology, Stockholm, Sweden\n",
        "#\n",
        "# This is free software: you can redistribute it and/or modify\n",
        "# it under the terms of the GNU Lesser General Public License as published by\n",
        "# the Free Software Foundation, either version 3 of the License, or\n",
        "# (at your option) any later version.\n",
        "\n",
        "# This template is maintained by Johan Hoffman\n",
        "# Please report problems to jhoffman@kth.se"
      ]
    },
    {
      "cell_type": "markdown",
      "metadata": {
        "id": "28xLGz8JX3Hh"
      },
      "source": [
        "# **Set up environment**"
      ]
    },
    {
      "cell_type": "code",
      "execution_count": null,
      "metadata": {
        "id": "Xw7VlErAX7NS",
        "outputId": "e4a8d47e-a9cc-4feb-e0c1-e4a9749fd600",
        "colab": {
          "base_uri": "https://localhost:8080/"
        }
      },
      "outputs": [
        {
          "output_type": "stream",
          "name": "stdout",
          "text": [
            "--2024-04-16 07:48:39--  https://fem-on-colab.github.io/releases/fenics-install.sh\n",
            "Resolving fem-on-colab.github.io (fem-on-colab.github.io)... 185.199.108.153, 185.199.109.153, 185.199.110.153, ...\n",
            "Connecting to fem-on-colab.github.io (fem-on-colab.github.io)|185.199.108.153|:443... connected.\n",
            "HTTP request sent, awaiting response... 200 OK\n",
            "Length: 1457 (1.4K) [application/x-sh]\n",
            "Saving to: ‘/tmp/fenics-install.sh’\n",
            "\n",
            "\r/tmp/fenics-install   0%[                    ]       0  --.-KB/s               \r/tmp/fenics-install 100%[===================>]   1.42K  --.-KB/s    in 0s      \n",
            "\n",
            "2024-04-16 07:48:39 (20.3 MB/s) - ‘/tmp/fenics-install.sh’ saved [1457/1457]\n",
            "\n",
            "\n",
            "\n",
            "\n",
            "\n",
            "\n",
            "\n",
            "\n",
            "\n",
            "\n",
            "\n",
            "\n",
            "\n",
            "\n",
            "\n",
            "\n",
            "\n",
            "\n",
            "\n",
            "\n",
            "\n",
            "\n",
            "\n",
            "\n",
            "\n",
            "\n",
            "\n",
            "\n",
            "\n",
            "################################################################################\n",
            "#                                                                              #\n",
            "#         The installation script for legacy FEniCS has been moved from        #\n",
            "#          https://fem-on-colab.github.io/releases/fenics-install.sh           #\n",
            "#                                      to                                      #\n",
            "#       https://fem-on-colab.github.io/releases/fenics-install-real.sh         #\n",
            "#                   (note the additional \"-real\" in the URL).                  #\n",
            "#                                                                              #\n",
            "#   Please update your installation cell. Report issues at our issue tracker   #\n",
            "#           https://github.com/fem-on-colab/fem-on-colab/issues                #\n",
            "#                                                                              #\n",
            "################################################################################\n",
            "\n",
            "\n",
            "\n",
            "\n",
            "\n",
            "\n",
            "\n",
            "\n",
            "\n",
            "\n",
            "\n",
            "\n",
            "\n",
            "\n",
            "\n",
            "\n",
            "\n",
            "\n",
            "\n",
            "\n",
            "\n",
            "\n",
            "\n",
            "\n",
            "\n",
            "\n",
            "\n",
            "\n"
          ]
        }
      ],
      "source": [
        "# Load neccessary modules.\n",
        "from google.colab import files\n",
        "\n",
        "import numpy as np\n",
        "import time\n",
        "\n",
        "# Install FEniCS (this may take a long time)\n",
        "try:\n",
        "    import dolfin\n",
        "except ImportError:\n",
        "    !wget \"https://fem-on-colab.github.io/releases/fenics-install.sh\" -O \"/tmp/fenics-install.sh\" && bash \"/tmp/fenics-install.sh\"\n",
        "    import dolfin\n",
        "\n",
        "from dolfin import *; from mshr import *\n",
        "\n",
        "import dolfin.common.plotting as fenicsplot\n",
        "\n",
        "from matplotlib import pyplot as plt"
      ]
    },
    {
      "cell_type": "markdown",
      "metadata": {
        "id": "gnO3lhAigLev"
      },
      "source": [
        "# **Introduction**"
      ]
    },
    {
      "cell_type": "markdown",
      "metadata": {
        "id": "l5zMzgPlRAF6"
      },
      "source": [
        "The Elasticity equations take the form\n",
        "\n",
        "$-\\nabla \\cdot \\sigma = f$\n",
        "\n",
        "together with suitable boundary conditions.\n",
        "\n",
        "To derive the weak form of the equations, multiply the equation by $v\\in V$, and then integrate over the domain $\\Omega$ and use Green's formula\n",
        "$\n",
        "(-\\nabla \\cdot \\sigma ,v) = (\\nabla \\sigma , \\nabla v)\n",
        "- <\\sigma \\cdot n, v>_{\\Gamma}\n",
        "$\n",
        "\n",
        "To model\n",
        "\n",
        "We seek a finite element approximation $u\\in V$ such that\n",
        "\n",
        "$(\\nabla \\sigma,\\nabla v) - <\\sigma \\cdot n, v>_{\\partial \\Omega} = (f,v)$\n",
        "\n",
        "for all test functions $v \\in V$.\n",
        "\n"
      ]
    },
    {
      "cell_type": "markdown",
      "metadata": {
        "id": "jOQvukXZq5U5"
      },
      "source": [
        "# **Method**"
      ]
    },
    {
      "cell_type": "markdown",
      "metadata": {
        "id": "wu2fugJ32t8m"
      },
      "source": [
        "**Define domain and mesh**"
      ]
    },
    {
      "cell_type": "code",
      "execution_count": null,
      "metadata": {
        "id": "_KBWOVATuBQz"
      },
      "outputs": [],
      "source": [
        "# Define rectangular domain\n",
        "L = 4.0\n",
        "H = 2.0\n",
        "\n",
        "# Define subdomains (for boundary conditions)\n",
        "class Left(SubDomain):\n",
        "    def inside(self, x, on_boundary):\n",
        "        return near(x[0], 0.0)\n",
        "\n",
        "class Right(SubDomain):\n",
        "    def inside(self, x, on_boundary):\n",
        "        return near(x[0], L)\n",
        "\n",
        "class Lower(SubDomain):\n",
        "    def inside(self, x, on_boundary):\n",
        "        return near(x[1], 0.0)\n",
        "\n",
        "class Upper(SubDomain):\n",
        "    def inside(self, x, on_boundary):\n",
        "        return near(x[1], H)\n",
        "\n",
        "left = Left()\n",
        "right = Right()\n",
        "lower = Lower()\n",
        "upper = Upper()\n",
        "\n",
        "# Generate mesh (examples with and without a hole in the mesh)\n",
        "resolution = 32\n",
        "mesh = generate_mesh(Rectangle(Point(0.0,0.0), Point(L,H)) - Circle(Point(1.5,0.25*H),0.2) - Circle(Point(0.5,0.5*H),0.2) - Circle(Point(2.0,0.75*H),0.2), resolution)\n",
        "\n",
        "# Local mesh refinement (specified by a cell marker)\n",
        "no_levels = 0\n",
        "for i in range(0,no_levels):\n",
        "  cell_marker = MeshFunction(\"bool\", mesh, mesh.topology().dim())\n",
        "  for cell in cells(mesh):\n",
        "    cell_marker[cell] = False\n",
        "    p = cell.midpoint()\n",
        "    if p.distance(Point(1.5, 0.5)) < 1.0:\n",
        "        cell_marker[cell] = True\n",
        "  mesh = refine(mesh, cell_marker)\n",
        "\n",
        "# Define mesh functions (for boundary conditions)\n",
        "boundaries = MeshFunction(\"size_t\", mesh, mesh.topology().dim()-1)\n",
        "boundaries.set_all(0)\n",
        "left.mark(boundaries, 1)\n",
        "right.mark(boundaries, 2)\n",
        "lower.mark(boundaries, 3)\n",
        "upper.mark(boundaries, 4)\n",
        "\n",
        "plt.figure()\n",
        "plot(mesh)\n",
        "plt.show()"
      ]
    },
    {
      "cell_type": "markdown",
      "metadata": {
        "id": "-le1iA8u3fS-"
      },
      "source": [
        "**Define finite element approximation spaces**"
      ]
    },
    {
      "cell_type": "code",
      "execution_count": null,
      "metadata": {
        "id": "uWeyBcYXuaPq"
      },
      "outputs": [],
      "source": [
        "# Generate finite element space\n",
        "VE = VectorElement(\"CG\", mesh.ufl_cell(), 1)\n",
        "\n",
        "V = FunctionSpace(mesh, VE)\n",
        "\n",
        "# Define trial and test functions\n",
        "u = TrialFunction(V)\n",
        "v = TestFunction(V)\n",
        "\n",
        "d = Function(V)"
      ]
    },
    {
      "cell_type": "markdown",
      "metadata": {
        "id": "OKzE7v-B3o9R"
      },
      "source": [
        "**Define boundary conditions**"
      ]
    },
    {
      "cell_type": "code",
      "execution_count": null,
      "metadata": {
        "id": "WAsDDvdKujQT"
      },
      "outputs": [],
      "source": [
        "# Define boundary conditions\n",
        "class DirichletBoundaryLower(SubDomain):\n",
        "    def inside(self, x, on_boundary):\n",
        "        return on_boundary and near(x[1], 0.0)\n",
        "\n",
        "class DirichletBoundaryUpper(SubDomain):\n",
        "    def inside(self, x, on_boundary):\n",
        "        return on_boundary and near(x[1], H)\n",
        "\n",
        "class DirichletBoundaryLeft(SubDomain):\n",
        "    def inside(self, x, on_boundary):\n",
        "        return on_boundary and near(x[0], 0.0)\n",
        "\n",
        "class DirichletBoundaryRight(SubDomain):\n",
        "    def inside(self, x, on_boundary):\n",
        "        return on_boundary and near(x[0], L)\n",
        "\n",
        "class DirichletBoundaryObjects(SubDomain):\n",
        "    def inside(self, x, on_boundary):\n",
        "        return on_boundary and (not near(x[0], 0.0)) and (not near(x[0], L)) and (not near(x[1], 0.0)) and (not near(x[1], H))\n",
        "\n",
        "dbc_lower = DirichletBoundaryLower()\n",
        "dbc_upper = DirichletBoundaryUpper()\n",
        "dbc_left = DirichletBoundaryLeft()\n",
        "dbc_right = DirichletBoundaryRight()\n",
        "dbc_objects = DirichletBoundaryObjects()\n",
        "\n",
        "bcu_left0 = DirichletBC(V.sub(0), 0.0, dbc_left)\n",
        "bcu_left1 = DirichletBC(V.sub(1), 0.0, dbc_left)\n",
        "bcu_right0 = DirichletBC(V.sub(0), 0.0, dbc_right)\n",
        "bcu_right1 = DirichletBC(V.sub(1), 0.0, dbc_right)\n",
        "bcu_upper0 = DirichletBC(V.sub(0), 0.0, dbc_upper)\n",
        "bcu_upper1 = DirichletBC(V.sub(1), 0.0, dbc_upper)\n",
        "bcu_lower0 = DirichletBC(V.sub(0), 0.0, dbc_lower)\n",
        "bcu_lower1 = DirichletBC(V.sub(1), 0.0, dbc_lower)\n",
        "bcu_obj0 = DirichletBC(V.sub(0), 0.5, dbc_objects)\n",
        "bcu_obj1 = DirichletBC(V.sub(1), 0.0, dbc_objects)\n",
        "\n",
        "#bcu = [bcu_in0, bcu_in1, bcu_upp0, bcu_upp1, bcu_low0, bcu_low1, bcu_obj0, bcu_obj1]\n",
        "bcu = [bcu_left0, bcu_left1, bcu_right0, bcu_right1, bcu_upper0, bcu_upper1, bcu_lower0, bcu_lower1, bcu_obj0, bcu_obj1]"
      ]
    },
    {
      "cell_type": "markdown",
      "metadata": {
        "id": "SsQLT38gVbn_"
      },
      "source": [
        "# **Results**"
      ]
    },
    {
      "cell_type": "markdown",
      "metadata": {
        "id": "y0EnzPyU46PX"
      },
      "source": [
        "**Define and solve variational problem**"
      ]
    },
    {
      "cell_type": "code",
      "execution_count": null,
      "metadata": {
        "id": "W-bCOI6LuxFi"
      },
      "outputs": [],
      "source": [
        "f = Expression((\"0.0\",\"0.0\"), element = V.ufl_element())\n",
        "\n",
        "dim = u.geometric_dimension()\n",
        "E = 1.0e10\n",
        "nu = 0.3\n",
        "mu = E*0.5/(1+nu)\n",
        "lambda_ = nu*E/((1.0+nu)*(1.0-2.0*nu))\n",
        "\n",
        "def epsilon(u):\n",
        "    return 0.5*(grad(u) + grad(u).T)\n",
        "\n",
        "def sigma(u):\n",
        "    #return 2.0*mu*epsilon(u)\n",
        "    return lambda_*div(u)*Identity(dim) + 2.0*mu*epsilon(u)\n",
        "\n",
        "# Define variational problem on residual form: r(u,v) = 0\n",
        "residual = ( inner(sigma(u), epsilon(v))*dx - inner(f, v)*dx )\n",
        "\n",
        "au = lhs(residual)\n",
        "Lu = rhs(residual)\n",
        "\n",
        "A = assemble(au)\n",
        "b = assemble(Lu)\n",
        "\n",
        "[bc.apply(A, b) for bc in bcu]\n",
        "[bc.apply(d.vector()) for bc in bcu]\n",
        "\n",
        "solve(A, d.vector(), b, \"bicgstab\", \"default\")"
      ]
    },
    {
      "cell_type": "markdown",
      "metadata": {
        "id": "nl9EBgZU6tMZ"
      },
      "source": [
        "**Visualize solution and export files**"
      ]
    },
    {
      "cell_type": "code",
      "execution_count": null,
      "metadata": {
        "id": "JUfvsjZPvBc0"
      },
      "outputs": [],
      "source": [
        "u1 = project(d, V)\n",
        "\n",
        "# Plot solution\n",
        "plt.figure()\n",
        "plot(u1, title=\"Displacement\")\n",
        "\n",
        "plt.show()"
      ]
    },
    {
      "cell_type": "markdown",
      "metadata": {
        "id": "TZnPXb-r9xiR"
      },
      "source": [
        "**Update mesh**"
      ]
    },
    {
      "cell_type": "code",
      "execution_count": null,
      "metadata": {
        "id": "Hh7E45zw94rW"
      },
      "outputs": [],
      "source": [
        "ALE.move(mesh, d)\n",
        "plt.figure()\n",
        "plot(mesh)\n",
        "plt.show()"
      ]
    },
    {
      "cell_type": "markdown",
      "metadata": {
        "id": "_4GLBv0zWr7m"
      },
      "source": [
        "# **Discussion**"
      ]
    },
    {
      "cell_type": "markdown",
      "metadata": {
        "id": "6bcsDSoRXHZe"
      },
      "source": [
        "A Elasticity equation was solved with a finite element method."
      ]
    }
  ],
  "metadata": {
    "colab": {
      "name": "template-report-Elasticity.ipynb",
      "provenance": [],
      "include_colab_link": true
    },
    "kernelspec": {
      "display_name": "Python 3 (ipykernel)",
      "language": "python",
      "name": "python3"
    },
    "language_info": {
      "codemirror_mode": {
        "name": "ipython",
        "version": 3
      },
      "file_extension": ".py",
      "mimetype": "text/x-python",
      "name": "python",
      "nbconvert_exporter": "python",
      "pygments_lexer": "ipython3",
      "version": "3.10.7"
    }
  },
  "nbformat": 4,
  "nbformat_minor": 0
}