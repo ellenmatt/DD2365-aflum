{
  "cells": [
    {
      "cell_type": "markdown",
      "metadata": {
        "id": "view-in-github",
        "colab_type": "text"
      },
      "source": [
        "<a href=\"https://colab.research.google.com/github/ellenmatt/DD2365-aflum/blob/main/tempogram_fingerprintFUNKARTYP.ipynb\" target=\"_parent\"><img src=\"https://colab.research.google.com/assets/colab-badge.svg\" alt=\"Open In Colab\"/></a>"
      ]
    },
    {
      "cell_type": "code",
      "execution_count": 168,
      "metadata": {
        "colab": {
          "base_uri": "https://localhost:8080/"
        },
        "id": "whkThBbGqIWP",
        "outputId": "3a9e00c6-d631-4d25-e92e-cd874dacea7a"
      },
      "outputs": [
        {
          "output_type": "stream",
          "name": "stdout",
          "text": [
            "Drive already mounted at /content/drive; to attempt to forcibly remount, call drive.mount(\"/content/drive\", force_remount=True).\n"
          ]
        }
      ],
      "source": [
        "from google.colab import drive\n",
        "drive.mount('/content/drive')"
      ]
    },
    {
      "cell_type": "code",
      "execution_count": 169,
      "metadata": {
        "id": "4YeeY4n-pM7E"
      },
      "outputs": [],
      "source": [
        "import librosa\n",
        "import librosa.display\n",
        "import matplotlib.pyplot as plt\n",
        "import numpy as np\n",
        "import glob\n",
        "import os, sys, time\n",
        "# from scipy.signal import find_peaks\n",
        "from scipy.ndimage import maximum_filter\n",
        "import os\n"
      ]
    },
    {
      "cell_type": "markdown",
      "metadata": {
        "id": "9ivMG6g7tN-Y"
      },
      "source": [
        "**Testar med klassen i den här filen till en början**"
      ]
    },
    {
      "cell_type": "markdown",
      "metadata": {
        "id": "Wh89Gl-issBc"
      },
      "source": [
        "## Class"
      ]
    },
    {
      "cell_type": "code",
      "execution_count": 170,
      "metadata": {
        "id": "ri1lNDmEsn0z"
      },
      "outputs": [],
      "source": [
        "class SoundFile:\n",
        "  \"\"\"\n",
        "    A class for handling audio files and performing operations such as Short-Time Fourier Transform (STFT)\n",
        "    computation, and spectrogram anchor extraction and more. Planning to add support for chromagram and tempogram.\n",
        "\n",
        "    Attributes:\n",
        "    - path: str, file path to the audio.\n",
        "    - mono_sound: np.array, mono audio signal data.\n",
        "    - frame_rate: int, sample rate of the audio file.\n",
        "    - times: np.array, time values corresponding to the STFT (computed after calling `compute_stft`).\n",
        "    - freqs: np.array, frequency values corresponding to the STFT (computed after calling `compute_stft`).\n",
        "    - stft: np.array, the magnitude of the Short-Time Fourier Transform.\n",
        "    - spectrogram: np.array, the spectrogram derived from the STFT magnitude.\n",
        "    - time_index_list: np.array, placeholder for storing specific time indices  (This was from Theo's test code, can modify my code to use these instead if that helps)\n",
        "    - freq_index_list: np.array, placeholder for storing specific frequency indices (Same as above ^).\n",
        "\n",
        "    Methods:\n",
        "    - print_info(): Prints basic information about the sound file.\n",
        "    - compute_stft(window_size, hop_size, window_type): Computes the STFT of the mono audio signal,\n",
        "                    and stores both the STFT results and the corresponding spectrogram.\n",
        "    - compute_log_bins_indices(num_bins, start_freq, nyquist_freq): Converts the frequency axis into\n",
        "                    logarithmic scale and returns bin boundaries based on the specified number of bins.\n",
        "    - extract_spectrogram_peaks(num_bins, filter_size): Extracts local maxima from the spectrogram\n",
        "                    by dividing it into logarithmic frequency bins and applying a filter to detect\n",
        "                    neighbourhood peaks.\n",
        "    - compute_hash_table(time_window_start, time_window_end, freq_window_start, freq_window_end):\n",
        "                    Computes and stores the hash table of fingerprints by pairing anchors from the\n",
        "                    \"extract_spectrogram_peaks\" method according to some sliding window defined by user.\n",
        "    - plot_spectrogram_with_peaks(): Plots histogram with anchors visible, (duh)\n",
        "    \"\"\"\n",
        "\n",
        "  def __init__(self, path, mono_sound, frame_rate):\n",
        "    \"\"\"\n",
        "      Initializes the SoundFile object with the provided path, mono sound data, and frame rate.\n",
        "      More parameters can be stored later on depending on the users needs.\n",
        "\n",
        "      Parameters:\n",
        "      - path: str, file path to the audio.\n",
        "      - mono_sound: np.ndarray, mono audio signal data.\n",
        "      - frame_rate: int, sample rate of the audio file.\n",
        "    \"\"\"\n",
        "    self.path = path\n",
        "    self.mono_sound = mono_sound\n",
        "    self.frame_rate = frame_rate\n",
        "    self.times = None\n",
        "    self.freqs = None\n",
        "    self.stft = None\n",
        "    self.spectrogram = None\n",
        "    self.time_index_list = None\n",
        "    self.freq_index_list = None\n",
        "    self.peak_coords = None\n",
        "    self.hash_table = {}\n",
        "    self.offset_times_dict = {}\n",
        "    self.nr_of_anchor_pairs = 0\n",
        "\n",
        "\n",
        "  def print_info(self):\n",
        "    \"\"\"\n",
        "      Print basic information of the soundfile. Want to add prints for when we have chromagram and tempogram for debugging purposes.\n",
        "    \"\"\"\n",
        "    print(f\"Path: {self.path}\")\n",
        "    print(f\"Frame rate: {self.frame_rate}\")\n",
        "    print(f\"Mono sound: {self.mono_sound.shape}\")\n",
        "    if self.stft is not None:\n",
        "      print(f\"Times: {self.times.shape}\")\n",
        "      print(f\"Frequencies: {self.freqs.shape}\")\n",
        "      print(f\"STFT: {self.stft.shape}\")\n",
        "\n",
        "  #  all of these functions don't have to be tied to this class, we can move them later on if we feel that is better, which will likely be the case if we also use chromagrams and tempograms\n",
        "\n",
        "  def compute_stft(self, window_size=1024, hop_size=32, window_type='hamming'):\n",
        "    \"\"\"\n",
        "      Computes the Short-Time Fourier Transform (STFT) for the audio data using the specified window size, hop size, and window type.\n",
        "      The stft array and it's corresponding time and frequency axis are stored as class parameters, and the corresponding spectrogram\n",
        "      is also computed and stored.\n",
        "\n",
        "      Parameters:\n",
        "        - window_size: int, size of the window for STFT (default 1024).\n",
        "        - hop_size: int, hop size for the sliding window (default 32).\n",
        "        - window_type: str, type of window function to apply (default 'hamming').\n",
        "    \"\"\"\n",
        "    window = scipy.signal.get_window(window_type, window_size)\n",
        "    self.freqs, self.times, Zxx = signal.stft(self.mono_sound,\n",
        "                            fs=self.frame_rate,\n",
        "                            window=window,\n",
        "                            nperseg=window_size,\n",
        "                            noverlap=int(window_size - hop_size))\n",
        "    self.stft = np.abs(Zxx)\n",
        "    self.spectrogram = 20 * np.log10(np.abs(self.stft))\n",
        "\n",
        "  def compute_log_bins_indices(self, num_bins, start_freq=20, nyquist_freq=4096):\n",
        "    \"\"\"\n",
        "      Converts the frequency axis to a logarithmic scale, and returns the bin indices corresponding to logarithmic bins.\n",
        "      This is important as logarithmic spacing helps capture more detail in the lower frequency ranges which human auditory\n",
        "      perception is more sensitive to.\n",
        "\n",
        "      Parameters:\n",
        "      - num_bins: int, number of logarithmic bins.\n",
        "      - start_freq: float, starting frequency for the logarithmic scale (default 20 Hz).\n",
        "      - nyquist_freq: float, Nyquist frequency (default 4096 Hz).\n",
        "    \"\"\"\n",
        "    # Range from 20 Hz to 20000 Hz is log(20) to log(20000), meaing 1.3 to 4.3\n",
        "    # if we work from 20 Hz then we might have to adjust some code elsewhere, or we could maybe change it to 0 to 4096, but 0 is undefined in log space right?\n",
        "    # We want to split this into N bins --> linear_bins = [((log(start) - log(end)) / N) * bin_id for bin_id in range(N)]\n",
        "\n",
        "    # We then want to go back to log scale, by taking\n",
        "    # log_bins = [10^linear_bin for linear_bin in linear_bins], but no guaranteee that these values exist in freqs so find the closest match.\n",
        "    # for N=8 --> [20, 40, 80, 160, 320, 640, 1280, 2560, 4096] so bin1=freq[20:40], bin2=freq[40:80], bin3=freq[80:160], ..., bin8=freq[2560:4096]\n",
        "    if self.freqs is None:\n",
        "      raise ValueError(\"Frequencies not computed. Call `compute_stft` first.\")\n",
        "\n",
        "    # Create array of indices on the linear scale that are uniformly spaced on the log scale between the start and stop values, in our case log(20) and log(4096).\n",
        "    boundary_points = np.logspace(np.log10(start_freq), np.log10(nyquist_freq), num_bins+1) # +1 as log_space generates N points, but we need bins so we need one more\n",
        "\n",
        "    # Find where these boundary points exist in freqs\n",
        "    bin_idx = np.searchsorted(self.freqs, boundary_points)  # if the value does not exist it will find the closest spot.\n",
        "    return bin_idx\n",
        "\n",
        "  def extract_spectrogram_peaks(self, num_bins, filter_size=(20, 20)):\n",
        "    \"\"\"\n",
        "      Extracts local maxima from the spectrogram by dividing it into logarithmic frequency bins and applying a max filter to detect peaks.\n",
        "\n",
        "      Detailed Algorithm Explanation:\n",
        "      I create a zero array with shape stft, I then iterate over it and find all maximum values for each log-scaled frequency bin in each time step,\n",
        "      giving me an array of all zeros except bin maximum values. I then apply a max filter to this array, splitting the image into neighbourhoods\n",
        "      and only keeping the single biggest value per neighbourhood. I then extract the coordinates of these maximum values, storing them in a 2d array\n",
        "      where each element is a 1d array (freq, time).\n",
        "\n",
        "      Parameters:\n",
        "        - num_bins: int, number of logarithmic frequency bins.\n",
        "        - filter_size: tuple[int, int], size of the maximum filter applied to detect local peaks.\n",
        "    \"\"\"\n",
        "    if self.stft is None:\n",
        "      raise ValueError(\"STFT not computed. Call `compute_stft` first.\")\n",
        "\n",
        "    # Step 1: Initialize an array of zeros with the same shape as self.stft\n",
        "    peaks = np.zeros_like(self.stft)\n",
        "    #print(f\"peaks before freq_bin loop: {peaks.shape}\")\n",
        "\n",
        "    # Step 2: Get the log-scaled bin indices\n",
        "    log_bins_idx = self.compute_log_bins_indices(num_bins)\n",
        "\n",
        "    # Step 3: Iterate over frequency bins\n",
        "    for bin_start, bin_end in zip(log_bins_idx[:-1], log_bins_idx[1:]):\n",
        "      # Get the bin segment of the spectrogram corresponding to this frequency range\n",
        "      bin_segment = self.stft[bin_start:bin_end, :]  # shape: (bin_size, time)\n",
        "\n",
        "      # For each time step, find the peak frequency in this bin segment\n",
        "      for t_idx in range(bin_segment.shape[1]):  # Loop over time frames\n",
        "        # Find the index of the maximum value in the bin segment for this time frame\n",
        "        max_peak_idx = np.argmax(bin_segment[:, t_idx])\n",
        "\n",
        "        # Step 4: Store the maximum value in the zero array at the corresponding location\n",
        "        peaks[bin_start + max_peak_idx, t_idx] = self.stft[bin_start + max_peak_idx, t_idx]\n",
        "\n",
        "    # Step 5: Apply a maximum filter to keep only local maxima in neighborhoods\n",
        "    filtered_peaks = maximum_filter(peaks, size=filter_size)\n",
        "\n",
        "    # Step 6: Extract coordinates of the local maximums\n",
        "    self.peak_coords = np.argwhere((filtered_peaks == peaks) & (peaks > 0))\n",
        "\n",
        "    # Return the (frequency, time) points where local maximums were found\n",
        "    # return peak_coords    # Could be stored as class parameter instead.\n",
        "\n",
        "\n",
        "  def compute_hash_table(self, time_window_start = 0, time_window_end = 100, freq_window_start = -99999, freq_window_end = 99999):\n",
        "    \"\"\"\n",
        "      Computes the hash_table containing the fingerprints bases on the peaks list provided.\n",
        "\n",
        "      Parameters:\n",
        "        - peaks: an array containing the anchors computed in \"extract_spectogram_peaks\".\n",
        "        - time_window_start: The time offset from which the pairing window starts, defaulting to zero for no offset.\n",
        "        - time_window_end: The time offset at which the pairing window ends, defaulting to 100.\n",
        "        - freq_window_start: The frequency offset from which the pairing window starts, defaulting to -100 to ignore frequency.\n",
        "        - freq_window_end: The frequency offset from which the pairing window ends, defaulting to 99999 to ignore frequency.\n",
        "    \"\"\"\n",
        "\n",
        "    if self.peak_coords is None:\n",
        "      raise ValueError(\"Peaks not computed. Call `extract_spectrogram_peaks` first.\")\n",
        "\n",
        "    # Goes through every pair of anchors (not optimal)\n",
        "    for i in range(len(self.peak_coords)):\n",
        "      for other in range(len(self.peak_coords)):\n",
        "\n",
        "        # Calculating difference in time and frequency\n",
        "        diff_time = self.peak_coords[other][1] - self.peak_coords[i][1]\n",
        "        diff_freq = self.peak_coords[other][0] - self.peak_coords[i][0]\n",
        "\n",
        "\n",
        "        if time_window_start < diff_time < time_window_end:# and freq_window_start < diff_freq < freq_window_end:\n",
        "          self.nr_of_anchor_pairs += 1\n",
        "\n",
        "          # Adding pair to hash table\n",
        "          if self.peak_coords[i][0] in self.hash_table.keys():\n",
        "            self.hash_table[self.peak_coords[i][0]].append(self.peak_coords[other][0] + diff_time/1000)\n",
        "          else:\n",
        "            self.hash_table[self.peak_coords[i][0]] = [self.peak_coords[other][0] + diff_time/1000]\n",
        "\n",
        "          # Adding time to beginning of file to hash table\n",
        "          self.offset_times_dict[(self.peak_coords[i][0], self.peak_coords[other][0])] = self.peak_coords[i][1]\n",
        "\n",
        "\n",
        "  def plot_spectrogram_with_peaks(self):\n",
        "    \"\"\"\n",
        "    Plots the spectrogram of the sound file and overlays the detected peaks.\n",
        "\n",
        "    Parameters:\n",
        "      - sound_file: SoundFile, the sound file object containing the spectrogram.\n",
        "      - peaks: np.ndarray, 2D array of peak coordinates (frequency index, time index).\n",
        "    \"\"\"\n",
        "    plt.figure(figsize=(12, 6))\n",
        "\n",
        "    # Plot the spectrogram\n",
        "    plt.imshow(self.spectrogram, aspect='auto', origin='lower', cmap='viridis')\n",
        "    plt.colorbar(label='Magnitude (dB)')\n",
        "    plt.title('Spectrogram with Peaks')\n",
        "    plt.xlabel('Time (frames)')\n",
        "    plt.ylabel('Frequency (bins)')\n",
        "\n",
        "    # Unpack the peaks into frequency and time index lists for plotting\n",
        "    freq_indices = self.peak_coords[:, 0]  # First column of the array is frequency\n",
        "    time_indices = self.peak_coords[:, 1]  # Second column is time\n",
        "\n",
        "    # Overlay the peaks on the spectrogram\n",
        "    plt.scatter(time_indices, freq_indices, color='red', s=10, marker='o', label='Peaks')\n",
        "\n",
        "    plt.legend()\n",
        "    plt.show()\n",
        "\n",
        "\n"
      ]
    },
    {
      "cell_type": "code",
      "execution_count": 171,
      "metadata": {
        "id": "QCQospsjte6e"
      },
      "outputs": [],
      "source": [
        "def load_sound_files(sound_dir, file_format='wav', frame_rate=8192):\n",
        "  \"\"\"\n",
        "  Load sound files from a directory, convert to mono, and resample.\n",
        "  \"\"\"\n",
        "  sound_files = []\n",
        "  for audio_file_path in glob.glob(f\"{sound_dir}/*.{file_format}\"):\n",
        "      # Load audio as a mono signal with the given frame rate, defaulted to 8192 as what defines a song is under the Nyquist frequency of 4096 Hz\n",
        "      mono_sound, sr = librosa.load(audio_file_path, sr=frame_rate, mono=True)\n",
        "      sound_file = SoundFile(path=audio_file_path, mono_sound=mono_sound, frame_rate=frame_rate)\n",
        "      sound_files.append(sound_file)\n",
        "  return sound_files\n",
        "\n"
      ]
    },
    {
      "cell_type": "markdown",
      "metadata": {
        "id": "SmREq7B4tfdv"
      },
      "source": [
        "##Lite funktioner"
      ]
    },
    {
      "cell_type": "code",
      "execution_count": 172,
      "metadata": {
        "id": "VycO8orVpW6O"
      },
      "outputs": [],
      "source": [
        "def make_tempogram(audio_path, start_time=0, segment_duration=0):\n",
        "    \"\"\"\n",
        "    Load audio samples and compute tempogram\n",
        "    \"\"\"\n",
        "    if start_time or segment_duration:\n",
        "        y, sr = librosa.load(audio_path, offset=start_time, duration=segment_duration)\n",
        "    else:\n",
        "        y, sr = librosa.load(audio_path)\n",
        "\n",
        "    duration = librosa.get_duration(y=y, sr=sr)\n",
        "    # onset_envelope = librosa.onset.onset_strength(y=y, sr=sr)\n",
        "    # onset_envelope = librosa.util.normalize(onset_envelope)\n",
        "    # tempogram = librosa.feature.tempogram(y=y, sr=sr, onset_envelope=onset_envelope)\n",
        "    tempogram = librosa.feature.tempogram(y=y, sr=sr)\n",
        "\n",
        "\n",
        "\n",
        "    return tempogram, sr, duration"
      ]
    },
    {
      "cell_type": "code",
      "execution_count": 173,
      "metadata": {
        "id": "m17E1ebgpYcR"
      },
      "outputs": [],
      "source": [
        "def compute_anchors(tempogram, sr):\n",
        "    \"\"\"\n",
        "    Computes anchors in tempogram by checking the max energy in each time-tempo box\n",
        "    \"\"\"\n",
        "    hop_length = 512\n",
        "    num_tempo_in_box = 60\n",
        "    # num_time_in_box = 15\n",
        "    num_time_in_box = 30\n",
        "\n",
        "\n",
        "    tempo_list = []\n",
        "    time_list = []\n",
        "\n",
        "    for tempo_box in range(0, tempogram.shape[0], num_tempo_in_box):\n",
        "        for time_box in range(0, tempogram.shape[1], num_time_in_box):\n",
        "            tempogram_box = tempogram[tempo_box:tempo_box + num_tempo_in_box, time_box:time_box + num_time_in_box]\n",
        "            max_index = np.argmax(tempogram_box)\n",
        "\n",
        "            local_tempo_index, local_time_index = np.unravel_index(max_index, tempogram_box.shape)\n",
        "\n",
        "            tempo_list.append(tempo_box + local_tempo_index)\n",
        "            time_list.append((time_box + local_time_index) * hop_length / sr)  # Time in seconds\n",
        "\n",
        "    return time_list, tempo_list\n"
      ]
    },
    {
      "cell_type": "code",
      "execution_count": 174,
      "metadata": {
        "id": "IA0dO3kk4qPb"
      },
      "outputs": [],
      "source": [
        "# def compute_fingerprints(time_list, tempo_list):\n",
        "#     \"\"\"\n",
        "#     Creates fingerprints using anchors.\n",
        "#     Parameters:\n",
        "#       - time_list: list of times for the anchors\n",
        "#       - tempo_list: list of tempos for the anchors\n",
        "#     \"\"\"\n",
        "#     fingerprints = []\n",
        "#     # time_window = 3\n",
        "#     time_window = 0.6\n",
        "#     tempo_window = 0.5\n",
        "#     # tempo_window = 3\n",
        "\n",
        "#     for i in range(len(tempo_list)):\n",
        "#         for j in range(i + 1, len(tempo_list)):\n",
        "#             if 0.1 < abs(time_list[j] - time_list[i]) < time_window and 0.1 < abs(tempo_list[j] - tempo_list[i]) < tempo_window:\n",
        "#                 fingerprint = (tempo_list[i], tempo_list[j], time_list[j] - time_list[i])\n",
        "#                 fingerprints.append((time_list[i], fingerprint))\n",
        "\n",
        "#     return fingerprints\n"
      ]
    },
    {
      "cell_type": "code",
      "execution_count": 175,
      "metadata": {
        "id": "06Mg-3GPHR10"
      },
      "outputs": [],
      "source": [
        "def compute_fingerprints(time_list, tempo_list):\n",
        "    \"\"\"\n",
        "    Creates fingerprints using anchors.\n",
        "    Parameters:\n",
        "      - time_list: list of times for the anchors\n",
        "      - tempo_list: list of tempos for the anchors\n",
        "    \"\"\"\n",
        "    fingerprints = []\n",
        "\n",
        "    for i in range(len(tempo_list)):\n",
        "      tempo_low = tempo_list[i] - 30\n",
        "      tempo_high = tempo_list[i] + 30\n",
        "\n",
        "      for j in range(len(tempo_list)):\n",
        "          if i == j: continue\n",
        "          if 0.1 < time_list[j] - time_list[i] < 3 and tempo_low < tempo_list[j] < tempo_high:\n",
        "              fingerprint = (tempo_list[i], tempo_list[j], time_list[j] - time_list[i])\n",
        "              fingerprints.append((time_list[i], fingerprint))\n",
        "\n",
        "    return fingerprints\n"
      ]
    },
    {
      "cell_type": "code",
      "execution_count": 176,
      "metadata": {
        "id": "pYLOetoYpdIY"
      },
      "outputs": [],
      "source": [
        "def compare_fingerprints(query_fingerprints, stored_fingerprints):\n",
        "    matches = 0\n",
        "    for query_fingerprint in query_fingerprints:\n",
        "        if query_fingerprint in stored_fingerprints:\n",
        "            matches += 1\n",
        "    return matches / len(query_fingerprints) # andel rätt"
      ]
    },
    {
      "cell_type": "code",
      "execution_count": 189,
      "metadata": {
        "id": "k-H-2aU9peXK"
      },
      "outputs": [],
      "source": [
        "def compare_fingerprintsLab3(fingerprint1, fingerprint2):\n",
        "    \"\"\"\n",
        "    Comparing fingerprints from two files.\n",
        "    \"\"\"\n",
        "    matches = 0\n",
        "    for hash in fingerprint1:\n",
        "        for other_hash in fingerprint2:\n",
        "            d = np.abs(hash[1][0] - other_hash[1][0]) + np.abs(hash[1][1] - other_hash[1][1]) + np.abs(hash[1][2] - other_hash[1][2])\n",
        "            if d <= 0.05:\n",
        "                matches += 1\n",
        "                break\n",
        "\n",
        "    return matches"
      ]
    },
    {
      "cell_type": "code",
      "execution_count": 178,
      "metadata": {
        "id": "q-rnxit6ZvBC"
      },
      "outputs": [],
      "source": [
        "# def compare_fingerprintsLab3(fingerprint1, fingerprint2):\n",
        "#     \"\"\"\n",
        "#     Comparing fingerprints from two files using hash maps for efficiency.\n",
        "#     \"\"\"\n",
        "#     fingerprint_dict = {}\n",
        "\n",
        "#     for hash in fingerprint1:\n",
        "#         # Create a tuple of the three elements that define the fingerprint (tempo1, tempo2, delta_time)\n",
        "#         fingerprint_hash = (hash[1][0], hash[1][1], hash[1][2])\n",
        "#         fingerprint_dict[fingerprint_hash] = fingerprint_dict.get(fingerprint_hash, 0) + 1  # Store frequency\n",
        "\n",
        "#     # Now iterate through fingerprint2 and check if its hash exists in the dictionary\n",
        "#     matches = 0\n",
        "#     for other_hash in fingerprint2:\n",
        "#         other_fingerprint_hash = (other_hash[1][0], other_hash[1][1], other_hash[1][2])\n",
        "#         if other_fingerprint_hash in fingerprint_dict:\n",
        "#             matches += 1\n",
        "\n",
        "#     return matches\n"
      ]
    },
    {
      "cell_type": "code",
      "source": [
        "# def compare_fingerprintsLab3(fingerprint1, fingerprint2):\n",
        "#     \"\"\"\n",
        "#     Comparing fingerprints from two files with optimized approach.\n",
        "#     \"\"\"\n",
        "#     # Convert fingerprint2 to a set of tuples for faster lookup\n",
        "#     fingerprint2_set = {tuple(other_hash[1]) for other_hash in fingerprint2}\n",
        "\n",
        "#     matches = 0\n",
        "#     for hash in fingerprint1:\n",
        "#         if tuple(hash[1]) in fingerprint2_set:\n",
        "#             matches += 1\n",
        "\n",
        "#     return matches\n"
      ],
      "metadata": {
        "id": "wtT-u1H6U-V_"
      },
      "execution_count": 179,
      "outputs": []
    },
    {
      "cell_type": "markdown",
      "metadata": {
        "id": "dokomGiyvkkb"
      },
      "source": [
        "**Testning**"
      ]
    },
    {
      "cell_type": "code",
      "execution_count": 190,
      "metadata": {
        "colab": {
          "base_uri": "https://localhost:8080/"
        },
        "id": "YfUtYUYTvgEJ",
        "outputId": "df2d68b4-b631-459d-a245-dc84fb7fb9b4"
      },
      "outputs": [
        {
          "output_type": "stream",
          "name": "stdout",
          "text": [
            "Against the Fall of Night.wav\n",
            "Melody Gardot - Baby I'm A Fool (Official Music Video).wav\n",
            "J'aime Paris au mois de mai (feat. Charles Aznavour).wav\n",
            "V1 Yuja Wang_ Rachmaninov Piano Concerto No. 1 in F-sharp minor, Op. 1.wav\n",
            "query_test_JaimeParis.wav\n"
          ]
        }
      ],
      "source": [
        "\n",
        "sound_dir = \"/content/drive/MyDrive/KTH/data/Final_data\"\n",
        "sound_files = load_sound_files(sound_dir)\n",
        "\n",
        "# Put all data files in an array\n",
        "data = [sound_files[i] for i in range(0, len(sound_files))]\n",
        "\n",
        "\n",
        "all_fingerprints = []\n",
        "for i in range(len(data)):\n",
        "    data_name = data[i].path.split(\"/\")[-1]\n",
        "    print(data_name)\n",
        "    path = os.path.join(sound_dir, data_name)\n",
        "    tempogram, sr, duration = make_tempogram(path)\n",
        "    time_list, tempo_list = compute_anchors(tempogram, sr)\n",
        "    fingerprints = compute_fingerprints(time_list, tempo_list)\n",
        "\n",
        "    all_fingerprints.append(fingerprints)\n",
        "\n"
      ]
    },
    {
      "cell_type": "markdown",
      "source": [
        "##Plotta tempogram med anchors"
      ],
      "metadata": {
        "id": "pYCkiQAHXvnt"
      }
    },
    {
      "cell_type": "code",
      "execution_count": 181,
      "metadata": {
        "id": "5bYd5CUNfO26"
      },
      "outputs": [],
      "source": [
        "a_path=\"/content/drive/MyDrive/KTH/data/Hardwell feat. Amba Shepherd - Apollo.wav\"\n",
        "tempogram, sr, duration = make_tempogram(a_path)\n",
        "\n",
        "time_list, tempo_list = compute_anchors(tempogram, sr)"
      ]
    },
    {
      "cell_type": "code",
      "execution_count": 182,
      "metadata": {
        "colab": {
          "base_uri": "https://localhost:8080/",
          "height": 487
        },
        "id": "hQVT4NK6fh0L",
        "outputId": "7add1579-2f3b-45fd-a1b7-d179e82265ae"
      },
      "outputs": [
        {
          "output_type": "display_data",
          "data": {
            "text/plain": [
              "<Figure size 1500x500 with 1 Axes>"
            ],
            "image/png": "[encoded data removed]"
          },
          "metadata": {}
        }
      ],
      "source": [
        "hop_length = 512\n",
        "plt.figure(figsize=(15, 5))\n",
        "librosa.display.specshow(tempogram, sr=sr, hop_length=hop_length, x_axis='time', y_axis='tempo')\n",
        "plt.scatter(time_list, tempo_list, color='c', marker='x')\n",
        "# plt.xlim([0, 90])\n",
        "plt.xlim([0, 10])\n",
        "\n",
        "plt.xlabel(\"Time (min)\")\n",
        "plt.title(\"Tempogram with anchors\")\n",
        "plt.show()"
      ]
    },
    {
      "cell_type": "markdown",
      "source": [
        "##Test"
      ],
      "metadata": {
        "id": "BArg84poXzFp"
      }
    },
    {
      "cell_type": "code",
      "execution_count": 191,
      "metadata": {
        "id": "dkxzYj8g9ZHb"
      },
      "outputs": [],
      "source": [
        "audio_path = \"/content/drive/MyDrive/KTH/data/Final_data/query_test_JaimeParis.wav\"\n",
        "# audio_path = \"/content/drive/MyDrive/KTH/data/Q6querywithnoise.wav\"\n",
        "\n",
        "one_sec_temp, sr, duration = make_tempogram(audio_path)\n",
        "\n",
        "time_list, tempo_list = compute_anchors(one_sec_temp, sr)\n",
        "fingerprint = compute_fingerprints(time_list, tempo_list)"
      ]
    },
    {
      "cell_type": "code",
      "execution_count": 192,
      "metadata": {
        "colab": {
          "base_uri": "https://localhost:8080/"
        },
        "id": "K7YRetdZ9biY",
        "outputId": "996044df-5eec-46db-d236-96d07ced6c50"
      },
      "outputs": [
        {
          "output_type": "stream",
          "name": "stdout",
          "text": [
            "0\n",
            "1\n",
            "2\n",
            "3\n",
            "4\n",
            "Max number of matches are 370, for audio 4\n",
            "{0: 213, 1: 284, 2: 315, 3: 257, 4: 370}\n"
          ]
        }
      ],
      "source": [
        "match_dict = {}\n",
        "query = fingerprint\n",
        "for i in range(len(all_fingerprints)):\n",
        "    print(i)\n",
        "    # matches = compare_fingerprints(query, all_fingerprints[i])\n",
        "    matches = compare_fingerprintsLab3(query, all_fingerprints[i])\n",
        "\n",
        "    match_dict[i] = matches\n",
        "\n",
        "max_key = max(match_dict, key=match_dict.get)\n",
        "max_score = match_dict[max_key]\n",
        "print(f'Max number of matches are {max_score}, for audio {max_key}')\n",
        "print(match_dict)"
      ]
    },
    {
      "cell_type": "code",
      "source": [
        "print(len(query))"
      ],
      "metadata": {
        "colab": {
          "base_uri": "https://localhost:8080/"
        },
        "id": "1bPDJPp8Cnzj",
        "outputId": "58f891fd-40e3-498c-b7cf-78c67ee2d81a"
      },
      "execution_count": 188,
      "outputs": [
        {
          "output_type": "stream",
          "name": "stdout",
          "text": [
            "370\n"
          ]
        }
      ]
    },
    {
      "cell_type": "markdown",
      "source": [
        "##Testar med korta queries"
      ],
      "metadata": {
        "id": "ZNwdbKmFVGw0"
      }
    },
    {
      "cell_type": "code",
      "source": [
        "sound_dir1 = \"/content/drive/MyDrive/KTH/data/\"\n",
        "sound_files1 = load_sound_files(sound_dir1)\n",
        "\n",
        "# Put all data files in an array\n",
        "data1 = [sound_files1[i] for i in range(0, len(sound_files1))]\n",
        "\n",
        "\n",
        "all_fingerprints1 = []\n",
        "for i in range(len(data1)):\n",
        "    data_name = data1[i].path.split(\"/\")[-1]\n",
        "    print(data_name)\n",
        "    path = os.path.join(sound_dir1, data_name)\n",
        "    tempogram, sr, duration = make_tempogram(path)\n",
        "    time_list, tempo_list = compute_anchors(tempogram, sr)\n",
        "    fingerprints = compute_fingerprints(time_list, tempo_list)\n",
        "\n",
        "    all_fingerprints1.append(fingerprints)\n"
      ],
      "metadata": {
        "colab": {
          "base_uri": "https://localhost:8080/"
        },
        "id": "NYRqjz1TT-aZ",
        "outputId": "531df230-838a-48d9-c28d-4b7a29d75087"
      },
      "execution_count": 185,
      "outputs": [
        {
          "output_type": "stream",
          "name": "stdout",
          "text": [
            "Q1.wav\n",
            "Q5.wav\n",
            "Q4.wav\n",
            "Q3.wav\n",
            "Q2.wav\n",
            "Q6.wav\n",
            "Q6query.wav\n",
            "Q6querywithnoise.wav\n",
            "Plini - Electric Sunrise (Audio).wav\n",
            "Hardwell feat. Amba Shepherd - Apollo.wav\n",
            "Dimitri Vegas, Moguai & Like Mike feat. Julian Peretta - Body Talk (Mammoth).wav\n",
            "Chappell Roan - HOT TO GO!.wav\n"
          ]
        }
      ]
    },
    {
      "cell_type": "code",
      "source": [
        "match_dict1 = {}\n",
        "query1 = all_fingerprints1[7]\n",
        "for i in range(len(all_fingerprints1)):\n",
        "      matches = compare_fingerprints(query1, all_fingerprints1[i])\n",
        "      match_dict1[i] = matches\n",
        "\n",
        "max_key1 = max(match_dict1, key=match_dict1.get)\n",
        "max_score1 = match_dict1[max_key1]\n",
        "print(f'Max number of matches are {max_score1}, for audio {max_key1}')\n",
        "print(match_dict1)"
      ],
      "metadata": {
        "colab": {
          "base_uri": "https://localhost:8080/"
        },
        "id": "enzvmyczUKD9",
        "outputId": "594bba8c-b9d3-4821-b33a-0c27316376f2"
      },
      "execution_count": 186,
      "outputs": [
        {
          "output_type": "stream",
          "name": "stdout",
          "text": [
            "Max number of matches are 1.0, for audio 7\n",
            "{0: 0.1917808219178082, 1: 0.1506849315068493, 2: 0.1780821917808219, 3: 0.136986301369863, 4: 0.136986301369863, 5: 0.1780821917808219, 6: 0.589041095890411, 7: 1.0, 8: 0.1506849315068493, 9: 0.136986301369863, 10: 0.2191780821917808, 11: 0.1917808219178082}\n"
          ]
        }
      ]
    },
    {
      "cell_type": "code",
      "source": [
        "print(tempo_list)"
      ],
      "metadata": {
        "colab": {
          "base_uri": "https://localhost:8080/"
        },
        "id": "PnRYkfQGyG5x",
        "outputId": "bf21f04d-8c9c-4eae-fe88-2365059f4c7b"
      },
      "execution_count": 187,
      "outputs": [
        {
          "output_type": "stream",
          "name": "stdout",
          "text": [
            "[0, 0, 0, 0, 0, 0, 0, 0, 0, 0, 0, 0, 0, 0, 0, 0, 0, 0, 0, 0, 0, 0, 0, 0, 0, 0, 0, 0, 0, 0, 0, 0, 0, 0, 0, 0, 0, 0, 0, 0, 0, 0, 0, 0, 0, 0, 0, 0, 0, 0, 0, 0, 0, 0, 0, 0, 0, 0, 0, 0, 0, 0, 0, 0, 0, 0, 0, 0, 0, 0, 0, 0, 0, 0, 0, 0, 0, 0, 0, 0, 0, 0, 0, 0, 0, 0, 0, 0, 0, 0, 0, 0, 0, 0, 0, 0, 0, 0, 0, 0, 0, 0, 0, 0, 0, 0, 0, 0, 0, 0, 0, 0, 0, 0, 0, 0, 0, 0, 0, 0, 0, 0, 0, 0, 0, 0, 0, 0, 0, 0, 0, 0, 0, 0, 0, 0, 0, 0, 0, 0, 0, 0, 0, 0, 0, 0, 0, 0, 0, 0, 0, 0, 0, 0, 0, 0, 0, 0, 0, 0, 0, 0, 0, 0, 0, 0, 0, 0, 0, 0, 0, 0, 0, 0, 0, 0, 0, 0, 0, 0, 0, 0, 0, 0, 0, 0, 0, 0, 0, 0, 0, 0, 0, 0, 0, 0, 0, 0, 0, 0, 0, 0, 0, 0, 0, 0, 0, 0, 0, 0, 0, 0, 0, 0, 0, 0, 0, 0, 0, 0, 0, 0, 0, 0, 0, 0, 0, 0, 0, 0, 0, 0, 0, 0, 0, 0, 0, 0, 0, 0, 0, 0, 0, 0, 0, 0, 0, 0, 0, 0, 0, 0, 0, 0, 0, 0, 0, 0, 0, 0, 0, 0, 0, 0, 0, 0, 74, 74, 74, 74, 74, 74, 74, 74, 74, 74, 74, 74, 74, 74, 74, 74, 74, 74, 74, 74, 74, 74, 74, 74, 74, 74, 74, 74, 74, 74, 74, 74, 74, 74, 74, 74, 74, 74, 74, 74, 74, 74, 74, 74, 74, 74, 74, 74, 74, 74, 74, 74, 74, 74, 74, 74, 74, 74, 74, 74, 74, 65, 65, 65, 74, 74, 74, 74, 74, 74, 74, 74, 74, 74, 74, 74, 74, 74, 74, 74, 74, 74, 74, 74, 74, 65, 65, 65, 74, 74, 74, 74, 74, 74, 74, 74, 74, 74, 74, 74, 74, 74, 64, 64, 74, 74, 74, 74, 74, 74, 74, 74, 74, 74, 74, 74, 74, 74, 74, 74, 74, 74, 74, 74, 74, 74, 74, 74, 74, 74, 74, 74, 74, 74, 74, 74, 74, 65, 65, 65, 65, 65, 65, 74, 74, 74, 74, 74, 74, 74, 74, 74, 74, 74, 74, 74, 74, 74, 74, 74, 74, 74, 74, 74, 74, 74, 74, 74, 74, 74, 74, 74, 74, 74, 74, 74, 74, 74, 74, 74, 74, 74, 74, 74, 74, 74, 65, 65, 65, 65, 74, 74, 74, 74, 74, 74, 74, 74, 64, 64, 64, 65, 65, 65, 65, 65, 65, 65, 65, 65, 65, 65, 65, 65, 65, 65, 65, 65, 65, 65, 65, 65, 65, 65, 65, 65, 74, 74, 74, 74, 74, 74, 65, 65, 65, 65, 74, 74, 74, 74, 74, 74, 74, 74, 74, 74, 74, 74, 74, 74, 74, 74, 74, 74, 74, 74, 74, 74, 74, 74, 74, 74, 74, 64, 64, 64, 129, 120, 120, 120, 120, 120, 120, 120, 120, 120, 120, 120, 120, 120, 120, 120, 120, 120, 120, 120, 120, 120, 120, 120, 120, 120, 120, 120, 120, 120, 120, 120, 120, 120, 120, 120, 120, 120, 120, 120, 120, 120, 120, 120, 120, 120, 120, 120, 120, 120, 120, 120, 120, 120, 120, 120, 120, 120, 120, 120, 120, 120, 120, 120, 120, 120, 120, 120, 120, 120, 120, 120, 120, 120, 120, 120, 120, 120, 120, 120, 120, 120, 120, 120, 120, 120, 120, 120, 120, 120, 120, 120, 120, 120, 120, 120, 120, 120, 120, 120, 120, 120, 120, 120, 120, 120, 120, 120, 120, 120, 120, 120, 120, 120, 120, 120, 120, 120, 120, 120, 120, 120, 120, 120, 120, 120, 120, 120, 120, 120, 120, 120, 120, 120, 120, 120, 120, 120, 120, 120, 120, 120, 120, 120, 120, 120, 120, 120, 120, 120, 120, 120, 120, 120, 120, 120, 120, 120, 120, 120, 120, 120, 120, 120, 120, 120, 120, 120, 120, 120, 120, 120, 120, 120, 120, 120, 120, 120, 120, 120, 120, 120, 120, 120, 120, 120, 120, 120, 120, 120, 120, 120, 120, 120, 120, 120, 120, 120, 120, 120, 120, 120, 120, 120, 120, 120, 120, 120, 120, 120, 120, 120, 120, 120, 120, 120, 120, 120, 120, 120, 120, 120, 120, 120, 120, 120, 120, 120, 120, 120, 120, 120, 120, 120, 120, 120, 120, 120, 120, 120, 120, 120, 120, 120, 120, 120, 120, 120, 120, 120, 120, 120, 120, 120, 120, 120, 120, 120, 120, 120, 120, 120, 120, 120, 120, 120, 185, 185, 185, 185, 185, 185, 185, 185, 185, 185, 185, 185, 185, 184, 184, 184, 184, 184, 184, 184, 185, 185, 185, 185, 185, 185, 185, 185, 185, 184, 184, 185, 184, 184, 184, 184, 184, 184, 184, 185, 185, 185, 185, 185, 185, 185, 185, 184, 184, 184, 184, 184, 184, 184, 184, 185, 185, 185, 185, 185, 185, 185, 185, 185, 185, 185, 185, 185, 185, 184, 184, 184, 184, 184, 184, 185, 185, 185, 184, 184, 184, 184, 185, 185, 185, 185, 185, 185, 185, 185, 185, 184, 184, 185, 185, 185, 185, 185, 185, 185, 184, 184, 184, 184, 184, 184, 184, 184, 185, 185, 185, 185, 185, 185, 185, 185, 184, 184, 184, 184, 185, 185, 185, 185, 185, 185, 185, 185, 185, 185, 185, 184, 184, 184, 184, 184, 184, 185, 185, 185, 185, 185, 185, 185, 185, 185, 185, 185, 184, 184, 184, 184, 184, 185, 185, 185, 184, 184, 184, 184, 184, 184, 185, 185, 185, 185, 185, 185, 185, 185, 184, 184, 185, 185, 185, 185, 185, 185, 185, 184, 184, 184, 184, 184, 184, 185, 185, 185, 185, 185, 184, 184, 184, 185, 185, 185, 185, 185, 185, 184, 184, 184, 184, 184, 184, 184, 184, 184, 184, 184, 184, 185, 185, 185, 185, 185, 185, 185, 184, 184, 184, 184, 184, 184, 184, 184, 185, 185, 185, 184, 184, 184, 184, 184, 184, 184, 185, 184, 184, 184, 184, 184, 184, 184, 184, 184, 185, 185, 185, 184, 184, 184, 184, 185, 185, 185, 185, 185, 194, 194, 194, 184, 184, 180, 192, 192, 256, 256, 240, 240, 240, 240, 240, 240, 240, 240, 240, 240, 240, 240, 240, 240, 240, 240, 240, 240, 240, 240, 240, 240, 240, 240, 240, 240, 240, 240, 240, 240, 240, 240, 240, 240, 240, 240, 240, 240, 240, 240, 240, 240, 240, 240, 240, 240, 240, 240, 240, 240, 240, 240, 240, 240, 240, 240, 240, 240, 240, 240, 240, 240, 240, 240, 240, 240, 240, 240, 240, 240, 240, 240, 240, 240, 240, 240, 240, 240, 240, 240, 240, 240, 240, 240, 240, 240, 240, 240, 240, 240, 240, 240, 240, 240, 240, 240, 240, 240, 240, 240, 240, 240, 240, 240, 240, 240, 240, 240, 240, 240, 240, 240, 240, 240, 240, 240, 240, 240, 240, 240, 240, 240, 240, 240, 240, 240, 240, 240, 240, 240, 240, 240, 240, 240, 240, 240, 240, 240, 240, 240, 240, 240, 240, 240, 240, 240, 240, 240, 240, 240, 240, 240, 240, 240, 240, 240, 240, 240, 240, 240, 240, 240, 240, 240, 240, 240, 240, 240, 240, 240, 240, 240, 240, 240, 240, 240, 240, 240, 240, 240, 240, 240, 240, 240, 240, 240, 240, 240, 240, 240, 240, 240, 240, 240, 240, 240, 240, 240, 240, 240, 240, 240, 240, 240, 240, 240, 240, 240, 240, 240, 240, 240, 240, 240, 240, 240, 240, 240, 240, 240, 240, 240, 240, 240, 240, 240, 240, 240, 240, 240, 240, 240, 240, 240, 240, 240, 240, 240, 240, 240, 240, 240, 240, 240, 240, 240, 240, 240, 240, 240, 240, 240, 240, 240, 240, 240, 240, 240, 240, 240, 256, 256, 256, 256, 329, 329, 346, 319, 305, 305, 305, 305, 305, 305, 305, 305, 305, 305, 304, 304, 304, 304, 304, 305, 305, 305, 305, 305, 305, 305, 305, 305, 305, 305, 304, 304, 304, 304, 304, 304, 304, 304, 304, 304, 304, 304, 304, 305, 305, 305, 305, 304, 305, 304, 304, 304, 304, 304, 304, 304, 305, 305, 304, 304, 304, 304, 305, 305, 305, 305, 304, 304, 304, 305, 305, 305, 304, 304, 304, 304, 304, 304, 304, 304, 304, 304, 305, 305, 304, 304, 305, 305, 305, 305, 304, 304, 304, 304, 304, 304, 304, 304, 305, 304, 304, 304, 304, 304, 304, 304, 304, 304, 305, 305, 305, 304, 304, 304, 304, 304, 304, 305, 305, 304, 304, 304, 304, 304, 304, 304, 304, 305, 304, 304, 304, 304, 304, 304, 304, 304, 304, 304, 304, 304, 305, 305, 305, 305, 304, 304, 304, 305, 305, 305, 304, 304, 304, 304, 304, 304, 304, 304, 303, 305, 304, 305, 305, 305, 304, 305, 305, 305, 305, 304, 304, 304, 304, 304, 304, 304, 304, 304, 304, 304, 304, 304, 304, 304, 304, 304, 304, 300, 304, 304, 305, 305, 305, 304, 304, 304, 304, 300, 304, 304, 304, 304, 304, 304, 304, 304, 304, 304, 304, 304, 304, 304, 304, 304, 304, 304, 304, 304, 304, 304, 304, 304, 304, 304, 304, 304, 304, 304, 304, 304, 304, 304, 304, 304, 304, 304, 304, 304, 304, 304, 304, 304, 304, 304, 304, 304, 304, 305, 305, 305, 305, 305, 305, 304, 304, 305, 304, 304, 304, 300, 346, 347, 348, 320, 319, 336, 377, 383, 383, 376, 376, 375, 360, 360, 360, 360, 360, 360, 360, 360, 360, 360, 360, 360, 360, 360, 360, 360, 360, 360, 360, 360, 360, 360, 360, 360, 360, 360, 360, 360, 360, 360, 360, 360, 360, 360, 360, 360, 360, 360, 360, 360, 360, 360, 360, 360, 360, 360, 360, 360, 360, 360, 360, 360, 360, 360, 360, 360, 360, 360, 360, 360, 360, 360, 360, 360, 360, 360, 360, 360, 360, 360, 360, 360, 360, 360, 360, 360, 360, 360, 360, 360, 360, 360, 360, 360, 360, 360, 360, 360, 360, 360, 360, 360, 360, 360, 360, 360, 360, 360, 360, 360, 360, 360, 360, 360, 360, 360, 360, 360, 360, 360, 360, 360, 360, 360, 360, 360, 360, 360, 360, 360, 360, 360, 360, 360, 360, 360, 360, 360, 360, 360, 360, 360, 360, 360, 360, 360, 360, 360, 360, 360, 360, 360, 360, 360, 360, 360, 360, 360, 360, 360, 360, 360, 360, 360, 360, 360, 360, 360, 360, 360, 360, 360, 360, 360, 360, 360, 360, 360, 360, 360, 360, 360, 360, 360, 360, 360, 360, 360, 360, 360, 360, 360, 360, 360, 360, 360, 360, 360, 360, 360, 360, 360, 360, 360, 360, 360, 360, 360, 360, 360, 360, 360, 360, 360, 360, 360, 360, 360, 360, 360, 360, 360, 360, 360, 360, 360, 360, 360, 360, 360, 360, 360, 360, 360, 360, 360, 360, 360, 360, 360, 360, 360, 360, 360, 360, 360, 360, 360, 360, 360, 360, 360, 360, 360, 360, 360, 360, 360, 360, 360, 360, 360, 375, 377, 370, 365, 383, 383, 368, 383]\n"
          ]
        }
      ]
    }
  ],
  "metadata": {
    "colab": {
      "collapsed_sections": [
        "Wh89Gl-issBc"
      ],
      "provenance": [],
      "include_colab_link": true
    },
    "kernelspec": {
      "display_name": "Python 3",
      "name": "python3"
    },
    "language_info": {
      "name": "python"
    }
  },
  "nbformat": 4,
  "nbformat_minor": 0
}