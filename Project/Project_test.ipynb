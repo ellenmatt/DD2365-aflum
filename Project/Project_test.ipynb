{
  "nbformat": 4,
  "nbformat_minor": 0,
  "metadata": {
    "colab": {
      "name": "template-report-Navier-Stokes.ipynb",
      "provenance": [],
      "include_colab_link": true
    },
    "kernelspec": {
      "name": "python3",
      "display_name": "Python 3"
    }
  },
  "cells": [
    {
      "cell_type": "markdown",
      "metadata": {
        "id": "view-in-github",
        "colab_type": "text"
      },
      "source": [
        "<a href=\"https://colab.research.google.com/github/ellenmatt/DD2365-aflum/blob/main/Project/Project_test.ipynb\" target=\"_parent\"><img src=\"https://colab.research.google.com/assets/colab-badge.svg\" alt=\"Open In Colab\"/></a>"
      ]
    },
    {
      "cell_type": "markdown",
      "metadata": {
        "id": "cyCUwzF-wRoW"
      },
      "source": [
        "# **The Navier-Stokes equations**\n",
        "**Johan Hoffman**"
      ]
    },
    {
      "cell_type": "markdown",
      "metadata": {
        "id": "9x_J5FVuPzbm"
      },
      "source": [
        "# **Abstract**"
      ]
    },
    {
      "cell_type": "markdown",
      "metadata": {
        "id": "6UFTSzW7P8kL"
      },
      "source": [
        "This short report show an example on how to use FEniCS to solve the Navier-Stokes equations, which is used in the course DD2365 Advanced Computation in Fluid Mechanics, at the KTH Royal Institute of Technology.\n",
        "\n",
        "[DD2365 course website.](https://www.kth.se/social/course/DD2365/)\n",
        "\n",
        "The Reynolds number was computed, and the drag and lift coefficients where calculated for different values of the Reynolds number. The flow was steady for low Reynolds number and unsteady for higher numbers. For the von Karman vortex street the Strouhal number was approximately 0.2. The solutions was then compared for different mesh resolutions. The results where also processed in Paraview."
      ]
    },
    {
      "cell_type": "markdown",
      "metadata": {
        "id": "OkT8J7uOWpT3"
      },
      "source": [
        "# **About the code**"
      ]
    },
    {
      "cell_type": "code",
      "metadata": {
        "id": "Pdll1Xc9WP0e",
        "outputId": "a3d3a65d-7036-434f-a920-b01519f5f378",
        "colab": {
          "base_uri": "https://localhost:8080/",
          "height": 36
        }
      },
      "source": [
        "\"\"\"This program is an example file for the course\"\"\"\n",
        "\"\"\"DD2365 Advanced Computation in Fluid Mechanics, \"\"\"\n",
        "\"\"\"KTH Royal Institute of Technology, Stockholm, Sweden.\"\"\"\n",
        "\n",
        "# Copyright (C) 2020 Johan Hoffman (jhoffman@kth.se)\n",
        "\n",
        "# This file is part of the course DD2365 Advanced Computation in Fluid Mechanics\n",
        "# KTH Royal Institute of Technology, Stockholm, Sweden\n",
        "#\n",
        "# This is free software: you can redistribute it and/or modify\n",
        "# it under the terms of the GNU Lesser General Public License as published by\n",
        "# the Free Software Foundation, either version 3 of the License, or\n",
        "# (at your option) any later version.\n",
        "\n",
        "# This template is maintained by Johan Hoffman\n",
        "# Please report problems to jhoffman@kth.se"
      ],
      "execution_count": 131,
      "outputs": [
        {
          "output_type": "execute_result",
          "data": {
            "text/plain": [
              "'KTH Royal Institute of Technology, Stockholm, Sweden.'"
            ],
            "application/vnd.google.colaboratory.intrinsic+json": {
              "type": "string"
            }
          },
          "metadata": {},
          "execution_count": 131
        }
      ]
    },
    {
      "cell_type": "markdown",
      "metadata": {
        "id": "28xLGz8JX3Hh"
      },
      "source": [
        "# **Set up environment**"
      ]
    },
    {
      "cell_type": "code",
      "metadata": {
        "id": "Xw7VlErAX7NS"
      },
      "source": [
        "# Load neccessary modules.\n",
        "from google.colab import files\n",
        "\n",
        "import numpy as np\n",
        "import time\n",
        "\n",
        "# Install FEniCS (this may take a long time)\n",
        "try:\n",
        "    import dolfin\n",
        "except ImportError:\n",
        "    !wget \"https://fem-on-colab.github.io/releases/fenics-install-real.sh\" -O \"/tmp/fenics-install.sh\" && bash \"/tmp/fenics-install.sh\"\n",
        "    import dolfin\n",
        "\n",
        "from dolfin import *; from mshr import *\n",
        "\n",
        "import dolfin.common.plotting as fenicsplot\n",
        "\n",
        "from matplotlib import pyplot as plt"
      ],
      "execution_count": 132,
      "outputs": []
    },
    {
      "cell_type": "markdown",
      "metadata": {
        "id": "gnO3lhAigLev"
      },
      "source": [
        "# **Introduction**"
      ]
    },
    {
      "cell_type": "markdown",
      "metadata": {
        "id": "l5zMzgPlRAF6"
      },
      "source": [
        "The Navier-Stokes equations take the form\n",
        "\n",
        "$\\dot u + (u\\cdot \\nabla)u + \\nabla p -\\Delta u = f,\\quad \\nabla \\cdot u=0,$\n",
        "\n",
        "together with suitable initial and boundary conditions.\n",
        "\n",
        "Here we present a FEniCS implementation of a stabilized space-time finite element method to solve the Navier-Stokes equations in 2D. The solution is visualized using FEniCS plotting functions, and is also exported as pvd-files which can be visualized in Paraview.\n",
        "\n",
        "We seek a finite element approximation $(u,p)\\in V\\times Q$ such that\n",
        "\n",
        "$(\\dot u + (u\\cdot \\nabla)u, v) - (p,\\nabla \\cdot v) + (\\nu \\nabla u,\\nabla v) + (\\nabla \\cdot u, q) + SD(u,p;v,q) = (f,v),$\n",
        "\n",
        "for all test functions $(v,q) \\in \\hat V\\times \\hat Q$, where $SD(u,p;v,q)$ is a residual based stabilization term.\n",
        "\n",
        "We present an example of flow past a circular cylinder, for which we compute the force on the surface of the cylinder $\\Gamma$ in the direction $\\phi$, by Green's formula:\n",
        "\n",
        "$\n",
        "F(u,p,\\phi)= ~<\\nu \\nabla u\\cdot n-pn, \\Phi>_{\\Gamma} ~=~(\\dot u+(u\\cdot \\nabla)u, \\Phi) + (\\nu \\nabla u,\\nabla \\Phi) - (p,\\nabla \\cdot\\Phi)-(f,\\Phi),\n",
        "$\n",
        "\n",
        "with $\\Phi\\in V$ a fuinction for which $\\Phi\\vert _{\\Gamma}=\\phi$ and $\\Phi\\vert_{\\partial \\Omega \\setminus \\Gamma}=0$. With $\\phi=(1,0)$ we get the drag force $F_D$, and with $\\phi=(0,1)$ the lift force $F_L$. The drag and lift coefficients are obtained by normalization,\n",
        "\n",
        "$\n",
        "c_D = \\frac{2F_D}{\\rho U^2D}, \\quad c_L = \\frac{2F_L}{\\rho U^2D}\n",
        "$\n",
        "\n",
        "where $\\rho$ is the density (here $\\rho=1$), $U$ the characteristic velocity (here $U=1$), and $D$ the characteristic length scale (here $D$ is the diameter of the cylinder).\n",
        "\n",
        "The Reynolds number is defined as $Re=\\frac{UD}{\\nu}$\n",
        "\n",
        "To read more about how to use similar methods for more complex problems, see e.g.\n",
        "\n",
        "[Hoffman, Johan, et al. \"Towards a parameter-free method for high reynolds number turbulent flow simulation based on adaptive finite element approximation.\" Computer Methods in Applied Mechanics and Engineering 288 (2015): 60-74.](https://www.sciencedirect.com/science/article/pii/S0045782514004836)\n"
      ]
    },
    {
      "cell_type": "markdown",
      "metadata": {
        "id": "jOQvukXZq5U5"
      },
      "source": [
        "# **Method**"
      ]
    },
    {
      "cell_type": "code",
      "source": [
        "def get_house(x1, y1, x2, y2):\n",
        "  # vertices - vänster ner, höger ner, höger upp, vänster upp\n",
        "  # vertices = [Point(XBL, YBL), Point(XBR, YBL), Point(XBR, YUR), Point(XBL, YUR)]\n",
        "  vertices = [Point(x1, y1), Point(x2, y1), Point(x2, y2), Point(x1, y2)]\n",
        "  return Polygon(vertices)"
      ],
      "metadata": {
        "id": "N165jWegsSeA"
      },
      "execution_count": 133,
      "outputs": []
    },
    {
      "cell_type": "code",
      "source": [
        "def get_house1(x1, y1, x2, y2, x3, y3, x4, y4):\n",
        "  # vertices - vänster ner, höger ner, höger upp, vänster upp\n",
        "  # vertices = [Point(XBL, YBL), Point(XBR, YBL), Point(XBR, YUR), Point(XBL, YUR)]\n",
        "  vertices = [Point(x1, y1), Point(x2, y2), Point(x3, y3), Point(x4, y4)]\n",
        "  return Polygon(vertices)"
      ],
      "metadata": {
        "id": "0MsUILBG3EXR"
      },
      "execution_count": 134,
      "outputs": []
    },
    {
      "cell_type": "code",
      "source": [
        "# # Bottom houses\n",
        "# house1 = get_house(0.5, 0.1, 0.8, 0.9)\n",
        "# house2 = get_house(1.5, 0.1, 1.8, 0.9)\n",
        "# house3 = get_house(2.5, 0.1, 2.8, 0.9)\n",
        "\n",
        "# # Top houses\n",
        "# house4 = get_house(0.5, 1.1, 0.8, 1.9)\n",
        "# house5 = get_house(1.5, 1.1, 1.8, 1.9)\n",
        "# house6 = get_house(2.5, 1.1, 2.8, 1.9)"
      ],
      "metadata": {
        "id": "1R4GWfuA1QSo"
      },
      "execution_count": 135,
      "outputs": []
    },
    {
      "cell_type": "markdown",
      "metadata": {
        "id": "wu2fugJ32t8m"
      },
      "source": [
        "**Define domain and mesh**"
      ]
    },
    {
      "cell_type": "code",
      "metadata": {
        "id": "_KBWOVATuBQz",
        "colab": {
          "base_uri": "https://localhost:8080/",
          "height": 308
        },
        "outputId": "456e5c0d-73d1-44af-f222-a9023103d7dd"
      },
      "source": [
        "# Define rectangular domain\n",
        "L = 4\n",
        "H = 2\n",
        "\n",
        "# Define circle\n",
        "xc = 1.0\n",
        "yc = 0.5*H\n",
        "rc = 0.2\n",
        "\n",
        "# Define subdomains (for boundary conditions)\n",
        "class Left(SubDomain):\n",
        "    def inside(self, x, on_boundary):\n",
        "        return near(x[0], 0.0)\n",
        "\n",
        "class Right(SubDomain):\n",
        "    def inside(self, x, on_boundary):\n",
        "        return near(x[0], L)\n",
        "\n",
        "class Lower(SubDomain):\n",
        "    def inside(self, x, on_boundary):\n",
        "        return near(x[1], 0.0)\n",
        "\n",
        "class Upper(SubDomain):\n",
        "    def inside(self, x, on_boundary):\n",
        "        return near(x[1], H)\n",
        "\n",
        "left = Left()\n",
        "right = Right()\n",
        "lower = Lower()\n",
        "upper = Upper()\n",
        "\n",
        "# Generate mesh (examples with and without a hole in the mesh)\n",
        "resolution = 32\n",
        "\n",
        "# get_house(x1, y1, x2, y2):\n",
        "house1 = get_house1(0.5, 1.6, 3.5, 1.1, 3.5, 1.9, 0.5, 1.9)\n",
        "house2 = get_house1(0.5, 0.1, 3.5, 0.1, 3.5, 0.9, 0.5, 0.4)\n",
        "\n",
        "mesh = generate_mesh(Rectangle(Point(0.0,0.0), Point(L,H)) - house1 - house2, resolution)\n",
        "\n",
        "# Local mesh refinement (specified by a cell marker)\n",
        "no_levels = 0\n",
        "for i in range(0,no_levels):\n",
        "  cell_marker = MeshFunction(\"bool\", mesh, mesh.topology().dim())\n",
        "  for cell in cells(mesh):\n",
        "    cell_marker[cell] = False\n",
        "    p = cell.midpoint()\n",
        "    if p.distance(Point(xc, yc)) < 1.0:\n",
        "        cell_marker[cell] = True\n",
        "  mesh = refine(mesh, cell_marker)\n",
        "\n",
        "# Define mesh functions (for boundary conditions)\n",
        "boundaries = MeshFunction(\"size_t\", mesh, mesh.topology().dim()-1)\n",
        "boundaries.set_all(0)\n",
        "left.mark(boundaries, 1)\n",
        "right.mark(boundaries, 2)\n",
        "lower.mark(boundaries, 3)\n",
        "upper.mark(boundaries, 4)\n",
        "\n",
        "plt.figure()\n",
        "plot(mesh)\n",
        "plt.show()"
      ],
      "execution_count": 136,
      "outputs": [
        {
          "output_type": "display_data",
          "data": {
            "text/plain": [
              "<Figure size 640x480 with 1 Axes>"
            ],
            "image/png": "[encoded data removed]"
          },
          "metadata": {}
        }
      ]
    },
    {
      "cell_type": "markdown",
      "metadata": {
        "id": "-le1iA8u3fS-"
      },
      "source": [
        "**Define finite element approximation spaces**"
      ]
    },
    {
      "cell_type": "code",
      "metadata": {
        "id": "uWeyBcYXuaPq"
      },
      "source": [
        "# Generate finite element spaces (for velocity and pressure)\n",
        "V = VectorFunctionSpace(mesh, \"Lagrange\", 1)\n",
        "Q = FunctionSpace(mesh, \"Lagrange\", 1)\n",
        "\n",
        "# Define trial and test functions\n",
        "u = TrialFunction(V)\n",
        "p = TrialFunction(Q)\n",
        "v = TestFunction(V)\n",
        "q = TestFunction(Q)"
      ],
      "execution_count": 137,
      "outputs": []
    },
    {
      "cell_type": "markdown",
      "metadata": {
        "id": "OKzE7v-B3o9R"
      },
      "source": [
        "**Define boundary conditions**"
      ]
    },
    {
      "cell_type": "code",
      "metadata": {
        "id": "WAsDDvdKujQT"
      },
      "source": [
        "# Define boundary conditions\n",
        "class DirichletBoundaryLower(SubDomain):\n",
        "    def inside(self, x, on_boundary):\n",
        "        return on_boundary and near(x[1], 0.0)\n",
        "\n",
        "class DirichletBoundaryUpper(SubDomain):\n",
        "    def inside(self, x, on_boundary):\n",
        "        return on_boundary and near(x[1], H)\n",
        "\n",
        "class DirichletBoundaryLeft(SubDomain):\n",
        "    def inside(self, x, on_boundary):\n",
        "        return on_boundary and near(x[0], 0.0)\n",
        "\n",
        "class DirichletBoundaryRight(SubDomain):\n",
        "    def inside(self, x, on_boundary):\n",
        "        return on_boundary and near(x[0], L)\n",
        "\n",
        "class DirichletBoundaryObjects(SubDomain):\n",
        "    def inside(self, x, on_boundary):\n",
        "        return on_boundary and (not near(x[0], 0.0)) and (not near(x[0], L)) and (not near(x[1], 0.0)) and (not near(x[1], H))\n",
        "\n",
        "dbc_lower = DirichletBoundaryLower()\n",
        "dbc_upper = DirichletBoundaryUpper()\n",
        "dbc_left = DirichletBoundaryLeft()\n",
        "dbc_right = DirichletBoundaryRight()\n",
        "dbc_objects = DirichletBoundaryObjects()\n",
        "\n",
        "# Examples of time dependent and stationary inflow conditions\n",
        "#uin = Expression('4.0*x[1]*(1-x[1])', element = V.sub(0).ufl_element())\n",
        "#uin = Expression('1.0 + 1.0*fabs(sin(t))', element = V.sub(0).ufl_element(), t=0.0)\n",
        "uin = 1.0\n",
        "bcu_in0 = DirichletBC(V.sub(0), uin, dbc_left)\n",
        "bcu_in1 = DirichletBC(V.sub(1), 0.0, dbc_left)\n",
        "bcu_upp0 = DirichletBC(V.sub(0), 0.0, dbc_upper)\n",
        "bcu_upp1 = DirichletBC(V.sub(1), 0.0, dbc_upper)\n",
        "bcu_low0 = DirichletBC(V.sub(0), 0.0, dbc_lower)\n",
        "bcu_low1 = DirichletBC(V.sub(1), 0.0, dbc_lower)\n",
        "bcu_obj0 = DirichletBC(V.sub(0), 0.0, dbc_objects)\n",
        "bcu_obj1 = DirichletBC(V.sub(1), 0.0, dbc_objects)\n",
        "\n",
        "pin = Expression('5.0*fabs(sin(t))', element = Q.ufl_element(), t=0.0)\n",
        "pout = 0.0\n",
        "#bcp0 = DirichletBC(Q, pin, dbc_left)\n",
        "bcp1 = DirichletBC(Q, pout, dbc_right)\n",
        "\n",
        "#bcu = [bcu_in0, bcu_in1, bcu_upp0, bcu_upp1, bcu_low0, bcu_low1, bcu_obj0, bcu_obj1]\n",
        "bcu = [bcu_in0, bcu_in1, bcu_upp1, bcu_low1, bcu_obj0, bcu_obj1]\n",
        "bcp = [bcp1]\n",
        "\n",
        "# Define measure for boundary integration\n",
        "ds = Measure('ds', domain=mesh, subdomain_data=boundaries)"
      ],
      "execution_count": 138,
      "outputs": []
    },
    {
      "cell_type": "markdown",
      "metadata": {
        "id": "SsQLT38gVbn_"
      },
      "source": [
        "# **Results**"
      ]
    },
    {
      "cell_type": "markdown",
      "metadata": {
        "id": "lA2Lsqa84Yld"
      },
      "source": [
        "**Define flow parameters**"
      ]
    },
    {
      "cell_type": "code",
      "metadata": {
        "id": "X7tupdYpuq0x"
      },
      "source": [
        "# Set viscosity\n",
        "nu = 4.0e-3"
      ],
      "execution_count": 139,
      "outputs": []
    },
    {
      "cell_type": "code",
      "source": [
        "# Reynolds number\n",
        "Re = uin * rc * 2 / nu\n",
        "print(\"Reynolds number: \", str(Re))"
      ],
      "metadata": {
        "id": "9vbqVUQuYc8T",
        "outputId": "9c0dcf70-a1ed-470c-c476-5547b0236855",
        "colab": {
          "base_uri": "https://localhost:8080/"
        }
      },
      "execution_count": 140,
      "outputs": [
        {
          "output_type": "stream",
          "name": "stdout",
          "text": [
            "Reynolds number:  100.0\n"
          ]
        }
      ]
    },
    {
      "cell_type": "markdown",
      "metadata": {
        "id": "qI4ZYb5E4w5p"
      },
      "source": [
        "**Define method parameters**"
      ]
    },
    {
      "cell_type": "code",
      "metadata": {
        "id": "6o3zdXWYuuFy"
      },
      "source": [
        "# Define iteration functions\n",
        "# (u0,p0) solution from previous time step\n",
        "# (u1,p1) linearized solution at present time step\n",
        "u0 = Function(V)\n",
        "u1 = Function(V)\n",
        "p0 = Function(Q)\n",
        "p1 = Function(Q)\n",
        "\n",
        "# Set parameters for nonlinear and lienar solvers\n",
        "num_nnlin_iter = 5\n",
        "prec = \"amg\" if has_krylov_solver_preconditioner(\"amg\") else \"default\"\n",
        "\n",
        "# Time step length\n",
        "dt = 0.5*mesh.hmin()"
      ],
      "execution_count": 141,
      "outputs": []
    },
    {
      "cell_type": "markdown",
      "metadata": {
        "id": "y0EnzPyU46PX"
      },
      "source": [
        "**Define variational problem**"
      ]
    },
    {
      "cell_type": "code",
      "metadata": {
        "id": "W-bCOI6LuxFi"
      },
      "source": [
        "# Define variational problem\n",
        "\n",
        "# Stabilization parameters\n",
        "h = CellDiameter(mesh);\n",
        "u_mag = sqrt(dot(u1,u1))\n",
        "d1 = 1.0/sqrt((pow(1.0/dt,2.0) + pow(u_mag/h,2.0)))\n",
        "d2 = h*u_mag\n",
        "\n",
        "# Mean velocities for trapozoidal time stepping\n",
        "um = 0.5*(u + u0)\n",
        "um1 = 0.5*(u1 + u0)\n",
        "\n",
        "# Momentum variational equation on residual form\n",
        "Fu = inner((u - u0)/dt + grad(um)*um1, v)*dx - p1*div(v)*dx + nu*inner(grad(um), grad(v))*dx \\\n",
        "    + d1*inner((u - u0)/dt + grad(um)*um1 + grad(p1), grad(v)*um1)*dx + d2*div(um)*div(v)*dx\n",
        "au = lhs(Fu)\n",
        "Lu = rhs(Fu)\n",
        "\n",
        "# Continuity variational equation on residual form\n",
        "Fp = d1*inner((u1 - u0)/dt + grad(um1)*um1 + grad(p), grad(q))*dx + div(um1)*q*dx\n",
        "ap = lhs(Fp)\n",
        "Lp = rhs(Fp)"
      ],
      "execution_count": 142,
      "outputs": []
    },
    {
      "cell_type": "markdown",
      "metadata": {
        "id": "vFN4F231ZXKc"
      },
      "source": [
        "**Compute force on boundary**\n",
        "\n",
        "For less computations, the lift force and drag force are both initialized and solved."
      ]
    },
    {
      "cell_type": "code",
      "metadata": {
        "id": "-2aWCr3YZccP"
      },
      "source": [
        "# Define the direction of the force to be computed\n",
        "phi_x = 0.0\n",
        "phi_y = 1.0\n",
        "\n",
        "#psi_expression = Expression((\"0.0\",\"pow(x[0]-0.5,2.0) + pow(x[1]-1.0,2.0) - pow(0.2,2.0) < 1.e-5 ? 1. : 0.\"), element = V.ufl_element())\n",
        "psi_expression = Expression((\"near(pow(x[0]-xc,2.0) + pow(x[1]-yc,2.0) - pow(rc,2.0), 0.0) ? phi_x : 0.\",\"near(pow(x[0]-xc,2.0) + pow(x[1]-yc,2.0) - pow(rc,2.0), 0.0) ? phi_y : 0.\"), xc=xc, yc=yc, rc=rc, phi_x=phi_x, phi_y=phi_y, element = V.ufl_element())\n",
        "psi = interpolate(psi_expression, V)\n",
        "\n",
        "Force = inner((u1 - u0)/dt + grad(um1)*um1, psi)*dx - p1*div(psi)*dx + nu*inner(grad(um1), grad(psi))*dx\n",
        "\n",
        "#plt.figure()\n",
        "#plot(psi, title=\"weight function psi\")\n",
        "\n",
        "# Force normalization\n",
        "D = 2*rc\n",
        "normalization = -2.0/D"
      ],
      "execution_count": 143,
      "outputs": []
    },
    {
      "cell_type": "code",
      "source": [
        "# Drag force\n",
        "# Define the direction of the force to be computed\n",
        "phi_x1 = 1.0\n",
        "phi_y1 = 0.0\n",
        "\n",
        "#psi_expression = Expression((\"0.0\",\"pow(x[0]-0.5,2.0) + pow(x[1]-1.0,2.0) - pow(0.2,2.0) < 1.e-5 ? 1. : 0.\"), element = V.ufl_element())\n",
        "psi_expression1 = Expression((\"near(pow(x[0]-xc,2.0) + pow(x[1]-yc,2.0) - pow(rc,2.0), 0.0) ? phi_x1 : 0.\",\"near(pow(x[0]-xc,2.0) + pow(x[1]-yc,2.0) - pow(rc,2.0), 0.0) ? phi_y1 : 0.\"), xc=xc, yc=yc, rc=rc, phi_x1=phi_x1, phi_y1=phi_y1, element = V.ufl_element())\n",
        "psi1 = interpolate(psi_expression1, V)\n",
        "\n",
        "Force_d = inner((u1 - u0)/dt + grad(um1)*um1, psi1)*dx - p1*div(psi1)*dx + nu*inner(grad(um1), grad(psi1))*dx"
      ],
      "metadata": {
        "id": "egK3rvWThm_i"
      },
      "execution_count": 144,
      "outputs": []
    },
    {
      "cell_type": "markdown",
      "metadata": {
        "id": "nl9EBgZU6tMZ"
      },
      "source": [
        "**Set plotting variables and open export files**"
      ]
    },
    {
      "cell_type": "code",
      "metadata": {
        "id": "Xpu2R7ZMu3bO"
      },
      "source": [
        "# Open files to export solution to Paraview\n",
        "file_u = File(\"results-NS/u.pvd\")\n",
        "file_p = File(\"results-NS/p.pvd\")\n",
        "\n",
        "# Set plot frequency\n",
        "plot_time = 0\n",
        "plot_freq = 50\n",
        "\n",
        "# Force computation data\n",
        "force_array = np.array(0.0)\n",
        "force_array = np.delete(force_array, 0)\n",
        "time = np.array(0.0)\n",
        "time = np.delete(time, 0)\n",
        "start_sample_time = 1.0"
      ],
      "execution_count": 145,
      "outputs": []
    },
    {
      "cell_type": "code",
      "source": [
        "# Drag force arrays\n",
        "force_array_d = np.array(0.0)\n",
        "force_array_d = np.delete(force_array_d, 0)"
      ],
      "metadata": {
        "id": "nfAYHmsyhr0Z"
      },
      "execution_count": 146,
      "outputs": []
    },
    {
      "cell_type": "markdown",
      "metadata": {
        "id": "F_PajAPw6xdn"
      },
      "source": [
        "**Time stepping algorithm**"
      ]
    },
    {
      "cell_type": "code",
      "metadata": {
        "id": "JUfvsjZPvBc0",
        "colab": {
          "base_uri": "https://localhost:8080/",
          "height": 1000
        },
        "outputId": "6f653685-3118-411a-e347-5f75394f8503"
      },
      "source": [
        "!rm results-NS/*\n",
        "\n",
        "# Time stepping\n",
        "T = 30\n",
        "t = dt\n",
        "while t < T + DOLFIN_EPS:\n",
        "\n",
        "    #s = 'Time t = ' + repr(t)\n",
        "    #print(s)\n",
        "\n",
        "    pin.t = t\n",
        "    #uin.t = t\n",
        "\n",
        "    # Solve non-linear problem\n",
        "    k = 0\n",
        "    while k < num_nnlin_iter:\n",
        "\n",
        "        # Assemble momentum matrix and vector\n",
        "        Au = assemble(au)\n",
        "        bu = assemble(Lu)\n",
        "\n",
        "        # Compute velocity solution\n",
        "        [bc.apply(Au, bu) for bc in bcu]\n",
        "        [bc.apply(u1.vector()) for bc in bcu]\n",
        "        solve(Au, u1.vector(), bu, \"bicgstab\", \"default\")\n",
        "\n",
        "        # Assemble continuity matrix and vector\n",
        "        Ap = assemble(ap)\n",
        "        bp = assemble(Lp)\n",
        "\n",
        "        # Compute pressure solution\n",
        "        [bc.apply(Ap, bp) for bc in bcp]\n",
        "        [bc.apply(p1.vector()) for bc in bcp]\n",
        "        solve(Ap, p1.vector(), bp, \"bicgstab\", prec)\n",
        "\n",
        "        # Compute force (lift and drag)\n",
        "        F = assemble(Force)\n",
        "\n",
        "        F_d = assemble(Force_d)\n",
        "\n",
        "        if (t > start_sample_time):\n",
        "          force_array = np.append(force_array, normalization*F)\n",
        "          force_array_d = np.append(force_array_d, normalization*F_d)\n",
        "          time = np.append(time, t)\n",
        "\n",
        "        k += 1\n",
        "\n",
        "    if t > plot_time:\n",
        "\n",
        "        s = 'Time t = ' + repr(t)\n",
        "        print(s)\n",
        "\n",
        "        # Save solution to file\n",
        "        file_u << u1\n",
        "        file_p << p1\n",
        "\n",
        "        # Plot solution\n",
        "        # plt.figure()\n",
        "        # plot(u1, title=\"Velocity\")\n",
        "\n",
        "        # plt.figure()\n",
        "        # plot(p1, title=\"Pressure\")\n",
        "\n",
        "        plot_time += T/plot_freq\n",
        "\n",
        "        # plt.show()\n",
        "\n",
        "        # plt.figure()\n",
        "        # plt.title(\"Lift force\")\n",
        "        # plt.plot(time, force_array)\n",
        "        # plt.show()\n",
        "\n",
        "        # plt.figure()\n",
        "        # plt.title(\"Drag force\")\n",
        "        # plt.plot(time, force_array_d)\n",
        "        # plt.show()\n",
        "\n",
        "    # Update time step\n",
        "    u0.assign(u1)\n",
        "    t += dt\n",
        "\n",
        "!tar -czvf results-NS.tar.gz results-NS\n",
        "files.download('results-NS.tar.gz')"
      ],
      "execution_count": 147,
      "outputs": [
        {
          "output_type": "stream",
          "name": "stdout",
          "text": [
            "Calling FFC just-in-time (JIT) compiler, this may take some time.\n"
          ]
        },
        {
          "output_type": "stream",
          "name": "stderr",
          "text": [
            "Level 25:FFC:Calling FFC just-in-time (JIT) compiler, this may take some time.\n",
            "INFO:FFC:Compiling form ffc_form_725a561f6fdbf9699449f7813ececdd23db908a4\n",
            "\n",
            "INFO:FFC:Compiler stage 1: Analyzing form(s)\n",
            "INFO:FFC:-----------------------------------\n",
            "DEBUG:FFC:  Preprocessing form using 'uflacs' representation family.\n",
            "INFO:FFC:  \n",
            "INFO:FFC:  Geometric dimension:       2\n",
            "  Number of cell subdomains: 0\n",
            "  Rank:                      2\n",
            "  Arguments:                 '(v_0, v_1)'\n",
            "  Number of coefficients:    2\n",
            "  Coefficients:              '[f_390838, f_390841]'\n",
            "  Unique elements:           'Vector<2 x CG1(?,?)>'\n",
            "  Unique sub elements:       'Vector<2 x CG1(?,?)>, CG1(?,?)'\n",
            "  \n",
            "INFO:FFC:  representation:    auto --> uflacs\n",
            "INFO:FFC:  quadrature_rule:   auto --> default\n",
            "INFO:FFC:  quadrature_degree: auto --> 10\n",
            "INFO:FFC:  quadrature_degree: 10\n",
            "INFO:FFC:  \n",
            "INFO:FFC:Compiler stage 1 finished in 0.0721433 seconds.\n",
            "\n",
            "INFO:FFC:Compiler stage 2: Computing intermediate representation\n",
            "INFO:FFC:-------------------------------------------------------\n",
            "INFO:FFC:  Computing representation of 0 elements\n",
            "INFO:FFC:  Computing representation of 0 dofmaps\n",
            "INFO:FFC:  Computing representation of 0 coordinate mappings\n",
            "INFO:FFC:  Computing representation of integrals\n",
            "INFO:FFC:  Computing uflacs representation\n",
            "DEBUG:FFC:  Reusing element from cache\n",
            "DEBUG:FFC:  Reusing element from cache\n",
            "DEBUG:FFC:  Reusing element from cache\n",
            "DEBUG:FFC:  Reusing element from cache\n",
            "DEBUG:FFC:  Reusing element from cache\n",
            "DEBUG:FFC:  Reusing element from cache\n",
            "DEBUG:FFC:  Reusing element from cache\n",
            "DEBUG:FFC:  Reusing element from cache\n",
            "DEBUG:FFC:  Reusing element from cache\n",
            "DEBUG:FFC:  Reusing element from cache\n",
            "DEBUG:FFC:  Reusing element from cache\n",
            "DEBUG:FFC:  Reusing element from cache\n",
            "DEBUG:UFL_LEGACY:Blocks of each mode: \n",
            "  24\tpartial\n",
            "INFO:FFC:  Computing representation of forms\n",
            "INFO:FFC:  \n",
            "INFO:FFC:Compiler stage 2 finished in 0.155356 seconds.\n",
            "\n",
            "INFO:FFC:Compiler stage 3: Optimizing intermediate representation\n",
            "INFO:FFC:--------------------------------------------------------\n",
            "INFO:FFC:  Optimizing uflacs representation\n",
            "INFO:FFC:  \n",
            "INFO:FFC:Compiler stage 3 finished in 0.00581813 seconds.\n",
            "\n",
            "INFO:FFC:Compiler stage 4: Generating code\n",
            "INFO:FFC:---------------------------------\n",
            "INFO:FFC:  Generating code for 0 finite_element(s)\n",
            "INFO:FFC:  Generating code for 0 dofmap(s)\n",
            "INFO:FFC:  Generating code for 0 coordinate_mapping(s)\n",
            "INFO:FFC:  Generating code for integrals\n",
            "INFO:FFC:  Generating code from ffc.uflacs representation\n",
            "DEBUG:FFC:  Reusing element from cache\n",
            "DEBUG:FFC:  Reusing element from cache\n",
            "DEBUG:FFC:  Reusing element from cache\n",
            "DEBUG:FFC:  Reusing element from cache\n",
            "DEBUG:FFC:  Reusing element from cache\n",
            "DEBUG:FFC:  Reusing element from cache\n",
            "INFO:FFC:  Generating code for forms\n",
            "INFO:FFC:  \n",
            "INFO:FFC:Compiler stage 4 finished in 0.0752809 seconds.\n",
            "\n",
            "INFO:FFC:Compiler stage 4.1 finished in 5.48363e-06 seconds.\n",
            "\n",
            "INFO:FFC:Compiler stage 5: Formatting code\n",
            "INFO:FFC:---------------------------------\n",
            "INFO:FFC:  \n",
            "INFO:FFC:Compiler stage 5 finished in 0.00446463 seconds.\n",
            "\n",
            "INFO:FFC:FFC finished in 0.324923 seconds.\n"
          ]
        },
        {
          "output_type": "stream",
          "name": "stdout",
          "text": [
            "Calling FFC just-in-time (JIT) compiler, this may take some time.\n"
          ]
        },
        {
          "output_type": "stream",
          "name": "stderr",
          "text": [
            "Level 25:FFC:Calling FFC just-in-time (JIT) compiler, this may take some time.\n",
            "INFO:FFC:Compiling form ffc_form_06f20b0dce9a0459272ea56f2d7126681a7d4462\n",
            "\n",
            "INFO:FFC:Compiler stage 1: Analyzing form(s)\n",
            "INFO:FFC:-----------------------------------\n",
            "DEBUG:FFC:  Preprocessing form using 'uflacs' representation family.\n",
            "INFO:FFC:  \n",
            "INFO:FFC:  Geometric dimension:       2\n",
            "  Number of cell subdomains: 0\n",
            "  Rank:                      1\n",
            "  Arguments:                 '(v_0)'\n",
            "  Number of coefficients:    3\n",
            "  Coefficients:              '[f_390838, f_390841, f_390847]'\n",
            "  Unique elements:           'Vector<2 x CG1(?,?)>, CG1(?,?)'\n",
            "  Unique sub elements:       'Vector<2 x CG1(?,?)>, CG1(?,?)'\n",
            "  \n",
            "INFO:FFC:  representation:    auto --> uflacs\n",
            "INFO:FFC:  quadrature_rule:   auto --> default\n",
            "INFO:FFC:  quadrature_degree: auto --> 10\n",
            "INFO:FFC:  quadrature_degree: 10\n",
            "INFO:FFC:  \n",
            "INFO:FFC:Compiler stage 1 finished in 0.0548954 seconds.\n",
            "\n",
            "INFO:FFC:Compiler stage 2: Computing intermediate representation\n",
            "INFO:FFC:-------------------------------------------------------\n",
            "INFO:FFC:  Computing representation of 0 elements\n",
            "INFO:FFC:  Computing representation of 0 dofmaps\n",
            "INFO:FFC:  Computing representation of 0 coordinate mappings\n",
            "INFO:FFC:  Computing representation of integrals\n",
            "INFO:FFC:  Computing uflacs representation\n",
            "DEBUG:FFC:  Reusing element from cache\n",
            "DEBUG:FFC:  Reusing element from cache\n",
            "DEBUG:FFC:  Reusing element from cache\n",
            "DEBUG:FFC:  Reusing element from cache\n",
            "DEBUG:FFC:  Reusing element from cache\n",
            "DEBUG:FFC:  Reusing element from cache\n",
            "DEBUG:FFC:  Reusing element from cache\n",
            "DEBUG:FFC:  Reusing element from cache\n",
            "DEBUG:FFC:  Reusing element from cache\n",
            "DEBUG:FFC:  Reusing element from cache\n",
            "DEBUG:FFC:  Reusing element from cache\n",
            "DEBUG:FFC:  Reusing element from cache\n",
            "DEBUG:FFC:  Reusing element from cache\n",
            "DEBUG:UFL_LEGACY:Blocks of each mode: \n",
            "  6\tfull\n",
            "INFO:FFC:  Computing representation of forms\n",
            "INFO:FFC:  \n",
            "INFO:FFC:Compiler stage 2 finished in 0.128817 seconds.\n",
            "\n",
            "INFO:FFC:Compiler stage 3: Optimizing intermediate representation\n",
            "INFO:FFC:--------------------------------------------------------\n",
            "INFO:FFC:  Optimizing uflacs representation\n",
            "INFO:FFC:  \n",
            "INFO:FFC:Compiler stage 3 finished in 0.00490713 seconds.\n",
            "\n",
            "INFO:FFC:Compiler stage 4: Generating code\n",
            "INFO:FFC:---------------------------------\n",
            "INFO:FFC:  Generating code for 0 finite_element(s)\n",
            "INFO:FFC:  Generating code for 0 dofmap(s)\n",
            "INFO:FFC:  Generating code for 0 coordinate_mapping(s)\n",
            "INFO:FFC:  Generating code for integrals\n",
            "INFO:FFC:  Generating code from ffc.uflacs representation\n",
            "DEBUG:FFC:  Reusing element from cache\n",
            "DEBUG:FFC:  Reusing element from cache\n",
            "DEBUG:FFC:  Reusing element from cache\n",
            "DEBUG:FFC:  Reusing element from cache\n",
            "DEBUG:FFC:  Reusing element from cache\n",
            "DEBUG:FFC:  Reusing element from cache\n",
            "INFO:FFC:  Generating code for forms\n",
            "INFO:FFC:  \n",
            "INFO:FFC:Compiler stage 4 finished in 0.0493977 seconds.\n",
            "\n",
            "INFO:FFC:Compiler stage 4.1 finished in 4.05312e-06 seconds.\n",
            "\n",
            "INFO:FFC:Compiler stage 5: Formatting code\n",
            "INFO:FFC:---------------------------------\n",
            "INFO:FFC:  \n",
            "INFO:FFC:Compiler stage 5 finished in 0.00511146 seconds.\n",
            "\n",
            "INFO:FFC:FFC finished in 0.251142 seconds.\n"
          ]
        },
        {
          "output_type": "stream",
          "name": "stdout",
          "text": [
            "Calling FFC just-in-time (JIT) compiler, this may take some time.\n"
          ]
        },
        {
          "output_type": "stream",
          "name": "stderr",
          "text": [
            "Level 25:FFC:Calling FFC just-in-time (JIT) compiler, this may take some time.\n",
            "INFO:FFC:Compiling form ffc_form_9d32b840c9ab1c733c1030b4e875791cff5a0cc7\n",
            "\n",
            "INFO:FFC:Compiler stage 1: Analyzing form(s)\n",
            "INFO:FFC:-----------------------------------\n",
            "DEBUG:FFC:  Preprocessing form using 'uflacs' representation family.\n",
            "INFO:FFC:  \n",
            "INFO:FFC:  Geometric dimension:       2\n",
            "  Number of cell subdomains: 0\n",
            "  Rank:                      2\n",
            "  Arguments:                 '(v_0, v_1)'\n",
            "  Number of coefficients:    1\n",
            "  Coefficients:              '[f_390841]'\n",
            "  Unique elements:           'CG1(?,?), Vector<2 x CG1(?,?)>'\n",
            "  Unique sub elements:       'CG1(?,?), Vector<2 x CG1(?,?)>'\n",
            "  \n",
            "INFO:FFC:  representation:    auto --> uflacs\n",
            "INFO:FFC:  quadrature_rule:   auto --> default\n",
            "INFO:FFC:  quadrature_degree: auto --> 8\n",
            "INFO:FFC:  quadrature_degree: 8\n",
            "INFO:FFC:  \n",
            "INFO:FFC:Compiler stage 1 finished in 0.0391421 seconds.\n",
            "\n",
            "INFO:FFC:Compiler stage 2: Computing intermediate representation\n",
            "INFO:FFC:-------------------------------------------------------\n",
            "INFO:FFC:  Computing representation of 0 elements\n",
            "INFO:FFC:  Computing representation of 0 dofmaps\n",
            "INFO:FFC:  Computing representation of 0 coordinate mappings\n",
            "INFO:FFC:  Computing representation of integrals\n",
            "INFO:FFC:  Computing uflacs representation\n",
            "DEBUG:FFC:  Reusing element from cache\n",
            "DEBUG:FFC:  Reusing element from cache\n",
            "DEBUG:FFC:  Reusing element from cache\n",
            "DEBUG:FFC:  Reusing element from cache\n",
            "DEBUG:FFC:  Reusing element from cache\n",
            "DEBUG:FFC:  Reusing element from cache\n",
            "DEBUG:FFC:  Reusing element from cache\n",
            "DEBUG:FFC:  Reusing element from cache\n",
            "DEBUG:FFC:  Reusing element from cache\n",
            "DEBUG:FFC:  Reusing element from cache\n",
            "DEBUG:FFC:  Reusing element from cache\n",
            "DEBUG:FFC:  Reusing element from cache\n",
            "DEBUG:FFC:  Reusing element from cache\n",
            "DEBUG:UFL_LEGACY:Blocks of each mode: \n",
            "  4\tpartial\n",
            "INFO:FFC:  Computing representation of forms\n",
            "INFO:FFC:  \n",
            "INFO:FFC:Compiler stage 2 finished in 0.105546 seconds.\n",
            "\n",
            "INFO:FFC:Compiler stage 3: Optimizing intermediate representation\n",
            "INFO:FFC:--------------------------------------------------------\n",
            "INFO:FFC:  Optimizing uflacs representation\n",
            "INFO:FFC:  \n",
            "INFO:FFC:Compiler stage 3 finished in 0.00756931 seconds.\n",
            "\n",
            "INFO:FFC:Compiler stage 4: Generating code\n",
            "INFO:FFC:---------------------------------\n",
            "INFO:FFC:  Generating code for 0 finite_element(s)\n",
            "INFO:FFC:  Generating code for 0 dofmap(s)\n",
            "INFO:FFC:  Generating code for 0 coordinate_mapping(s)\n",
            "INFO:FFC:  Generating code for integrals\n",
            "INFO:FFC:  Generating code from ffc.uflacs representation\n",
            "DEBUG:FFC:  Reusing element from cache\n",
            "DEBUG:FFC:  Reusing element from cache\n",
            "DEBUG:FFC:  Reusing element from cache\n",
            "DEBUG:FFC:  Reusing element from cache\n",
            "DEBUG:FFC:  Reusing element from cache\n",
            "DEBUG:FFC:  Reusing element from cache\n",
            "INFO:FFC:  Generating code for forms\n",
            "INFO:FFC:  \n",
            "INFO:FFC:Compiler stage 4 finished in 0.0376227 seconds.\n",
            "\n",
            "INFO:FFC:Compiler stage 4.1 finished in 5.00679e-06 seconds.\n",
            "\n",
            "INFO:FFC:Compiler stage 5: Formatting code\n",
            "INFO:FFC:---------------------------------\n",
            "INFO:FFC:  \n",
            "INFO:FFC:Compiler stage 5 finished in 0.00475669 seconds.\n",
            "\n",
            "INFO:FFC:FFC finished in 0.204188 seconds.\n"
          ]
        },
        {
          "output_type": "stream",
          "name": "stdout",
          "text": [
            "Calling FFC just-in-time (JIT) compiler, this may take some time.\n"
          ]
        },
        {
          "output_type": "stream",
          "name": "stderr",
          "text": [
            "Level 25:FFC:Calling FFC just-in-time (JIT) compiler, this may take some time.\n",
            "INFO:FFC:Compiling form ffc_form_061f5814bf9922d58b9e580e7c8db008e45d6dde\n",
            "\n",
            "INFO:FFC:Compiler stage 1: Analyzing form(s)\n",
            "INFO:FFC:-----------------------------------\n",
            "DEBUG:FFC:  Preprocessing form using 'uflacs' representation family.\n",
            "INFO:FFC:  \n",
            "INFO:FFC:  Geometric dimension:       2\n",
            "  Number of cell subdomains: 0\n",
            "  Rank:                      1\n",
            "  Arguments:                 '(v_0)'\n",
            "  Number of coefficients:    2\n",
            "  Coefficients:              '[f_390838, f_390841]'\n",
            "  Unique elements:           'CG1(?,?), Vector<2 x CG1(?,?)>'\n",
            "  Unique sub elements:       'CG1(?,?), Vector<2 x CG1(?,?)>'\n",
            "  \n",
            "INFO:FFC:  representation:    auto --> uflacs\n",
            "INFO:FFC:  quadrature_rule:   auto --> default\n",
            "INFO:FFC:  quadrature_degree: auto --> 9\n",
            "INFO:FFC:  quadrature_degree: 9\n",
            "INFO:FFC:  \n",
            "INFO:FFC:Compiler stage 1 finished in 0.0749936 seconds.\n",
            "\n",
            "INFO:FFC:Compiler stage 2: Computing intermediate representation\n",
            "INFO:FFC:-------------------------------------------------------\n",
            "INFO:FFC:  Computing representation of 0 elements\n",
            "INFO:FFC:  Computing representation of 0 dofmaps\n",
            "INFO:FFC:  Computing representation of 0 coordinate mappings\n",
            "INFO:FFC:  Computing representation of integrals\n",
            "INFO:FFC:  Computing uflacs representation\n",
            "DEBUG:FFC:  Reusing element from cache\n",
            "DEBUG:FFC:  Reusing element from cache\n",
            "DEBUG:FFC:  Reusing element from cache\n",
            "DEBUG:FFC:  Reusing element from cache\n",
            "DEBUG:FFC:  Reusing element from cache\n",
            "DEBUG:FFC:  Reusing element from cache\n",
            "DEBUG:FFC:  Reusing element from cache\n",
            "DEBUG:FFC:  Reusing element from cache\n",
            "DEBUG:FFC:  Reusing element from cache\n",
            "DEBUG:FFC:  Reusing element from cache\n",
            "DEBUG:FFC:  Reusing element from cache\n",
            "DEBUG:FFC:  Reusing element from cache\n",
            "DEBUG:FFC:  Reusing element from cache\n",
            "DEBUG:UFL_LEGACY:Blocks of each mode: \n",
            "  2\tfull\n",
            "INFO:FFC:  Computing representation of forms\n",
            "INFO:FFC:  \n",
            "INFO:FFC:Compiler stage 2 finished in 0.154819 seconds.\n",
            "\n",
            "INFO:FFC:Compiler stage 3: Optimizing intermediate representation\n",
            "INFO:FFC:--------------------------------------------------------\n",
            "INFO:FFC:  Optimizing uflacs representation\n",
            "INFO:FFC:  \n",
            "INFO:FFC:Compiler stage 3 finished in 0.0109115 seconds.\n",
            "\n",
            "INFO:FFC:Compiler stage 4: Generating code\n",
            "INFO:FFC:---------------------------------\n",
            "INFO:FFC:  Generating code for 0 finite_element(s)\n",
            "INFO:FFC:  Generating code for 0 dofmap(s)\n",
            "INFO:FFC:  Generating code for 0 coordinate_mapping(s)\n",
            "INFO:FFC:  Generating code for integrals\n",
            "INFO:FFC:  Generating code from ffc.uflacs representation\n",
            "DEBUG:FFC:  Reusing element from cache\n",
            "DEBUG:FFC:  Reusing element from cache\n",
            "DEBUG:FFC:  Reusing element from cache\n",
            "DEBUG:FFC:  Reusing element from cache\n",
            "DEBUG:FFC:  Reusing element from cache\n",
            "DEBUG:FFC:  Reusing element from cache\n",
            "INFO:FFC:  Generating code for forms\n",
            "INFO:FFC:  \n",
            "INFO:FFC:Compiler stage 4 finished in 0.0767097 seconds.\n",
            "\n",
            "INFO:FFC:Compiler stage 4.1 finished in 4.05312e-06 seconds.\n",
            "\n",
            "INFO:FFC:Compiler stage 5: Formatting code\n",
            "INFO:FFC:---------------------------------\n",
            "INFO:FFC:  \n",
            "INFO:FFC:Compiler stage 5 finished in 0.00819325 seconds.\n",
            "\n",
            "INFO:FFC:FFC finished in 0.340941 seconds.\n"
          ]
        },
        {
          "output_type": "stream",
          "name": "stdout",
          "text": [
            "Calling FFC just-in-time (JIT) compiler, this may take some time.\n"
          ]
        },
        {
          "output_type": "stream",
          "name": "stderr",
          "text": [
            "Level 25:FFC:Calling FFC just-in-time (JIT) compiler, this may take some time.\n",
            "INFO:FFC:Compiling form ffc_form_63f759095eeeac631c941812eaac48a1bef2b100\n",
            "\n",
            "INFO:FFC:Compiler stage 1: Analyzing form(s)\n",
            "INFO:FFC:-----------------------------------\n",
            "DEBUG:FFC:  Preprocessing form using 'uflacs' representation family.\n",
            "INFO:FFC:  \n",
            "INFO:FFC:  Geometric dimension:       2\n",
            "  Number of cell subdomains: 0\n",
            "  Rank:                      0\n",
            "  Arguments:                 '()'\n",
            "  Number of coefficients:    4\n",
            "  Coefficients:              '[f_390838, f_390841, f_390847, f_390851]'\n",
            "  Unique elements:           'Vector<2 x CG1(?,?)>, CG1(?,?)'\n",
            "  Unique sub elements:       'Vector<2 x CG1(?,?)>, CG1(?,?)'\n",
            "  \n",
            "INFO:FFC:  representation:    auto --> uflacs\n",
            "INFO:FFC:  quadrature_rule:   auto --> default\n",
            "INFO:FFC:  quadrature_degree: auto --> 2\n",
            "INFO:FFC:  quadrature_degree: 2\n",
            "INFO:FFC:  \n",
            "INFO:FFC:Compiler stage 1 finished in 0.0603638 seconds.\n",
            "\n",
            "INFO:FFC:Compiler stage 2: Computing intermediate representation\n",
            "INFO:FFC:-------------------------------------------------------\n",
            "INFO:FFC:  Computing representation of 0 elements\n",
            "INFO:FFC:  Computing representation of 0 dofmaps\n",
            "INFO:FFC:  Computing representation of 0 coordinate mappings\n",
            "INFO:FFC:  Computing representation of integrals\n",
            "INFO:FFC:  Computing uflacs representation\n",
            "DEBUG:FFC:  Reusing element from cache\n",
            "DEBUG:FFC:  Reusing element from cache\n",
            "DEBUG:FFC:  Reusing element from cache\n",
            "DEBUG:FFC:  Reusing element from cache\n",
            "DEBUG:FFC:  Reusing element from cache\n",
            "DEBUG:FFC:  Reusing element from cache\n",
            "DEBUG:FFC:  Reusing element from cache\n",
            "DEBUG:FFC:  Reusing element from cache\n",
            "DEBUG:FFC:  Reusing element from cache\n",
            "DEBUG:FFC:  Reusing element from cache\n",
            "DEBUG:FFC:  Reusing element from cache\n",
            "DEBUG:FFC:  Reusing element from cache\n",
            "DEBUG:FFC:  Reusing element from cache\n",
            "DEBUG:UFL_LEGACY:Blocks of each mode: \n",
            "  1\tfull\n",
            "INFO:FFC:  Computing representation of forms\n",
            "INFO:FFC:  \n",
            "INFO:FFC:Compiler stage 2 finished in 0.130586 seconds.\n",
            "\n",
            "INFO:FFC:Compiler stage 3: Optimizing intermediate representation\n",
            "INFO:FFC:--------------------------------------------------------\n",
            "INFO:FFC:  Optimizing uflacs representation\n",
            "INFO:FFC:  \n",
            "INFO:FFC:Compiler stage 3 finished in 0.00796914 seconds.\n",
            "\n",
            "INFO:FFC:Compiler stage 4: Generating code\n",
            "INFO:FFC:---------------------------------\n",
            "INFO:FFC:  Generating code for 0 finite_element(s)\n",
            "INFO:FFC:  Generating code for 0 dofmap(s)\n",
            "INFO:FFC:  Generating code for 0 coordinate_mapping(s)\n",
            "INFO:FFC:  Generating code for integrals\n",
            "INFO:FFC:  Generating code from ffc.uflacs representation\n",
            "INFO:FFC:  Generating code for forms\n",
            "INFO:FFC:  \n",
            "INFO:FFC:Compiler stage 4 finished in 0.0479531 seconds.\n",
            "\n",
            "INFO:FFC:Compiler stage 4.1 finished in 5.72205e-06 seconds.\n",
            "\n",
            "INFO:FFC:Compiler stage 5: Formatting code\n",
            "INFO:FFC:---------------------------------\n",
            "INFO:FFC:  \n",
            "INFO:FFC:Compiler stage 5 finished in 0.00579929 seconds.\n",
            "\n",
            "INFO:FFC:FFC finished in 0.26608 seconds.\n"
          ]
        },
        {
          "output_type": "stream",
          "name": "stdout",
          "text": [
            "Time t = 0.032434508011542636\n",
            "Time t = 0.6162556522193102\n",
            "Time t = 1.2000767964270784\n",
            "Time t = 1.8163324486463894\n",
            "Time t = 2.400153592854155\n",
            "Time t = 3.016409245073462\n",
            "Time t = 3.600230389281226\n",
            "Time t = 4.216486041500533\n",
            "Time t = 4.800307185708298\n",
            "Time t = 5.4165628379276045\n",
            "Time t = 6.000383982135369\n",
            "Time t = 6.616639634354676\n",
            "Time t = 7.20046077856244\n",
            "Time t = 7.816716430781747\n",
            "Time t = 8.400537574989512\n",
            "Time t = 9.016793227208819\n",
            "Time t = 9.600614371416583\n",
            "Time t = 10.21687002363589\n",
            "Time t = 10.800691167843654\n",
            "Time t = 11.416946820062961\n",
            "Time t = 12.000767964270725\n",
            "Time t = 12.617023616490032\n",
            "Time t = 13.200844760697796\n",
            "Time t = 13.817100412917103\n",
            "Time t = 14.400921557124867\n",
            "Time t = 15.017177209344174\n",
            "Time t = 15.600998353551939\n",
            "Time t = 16.217254005771256\n",
            "Time t = 16.801075149979052\n",
            "Time t = 17.417330802198393\n",
            "Time t = 18.00115194640619\n",
            "Time t = 18.61740759862553\n",
            "Time t = 19.201228742833326\n",
            "Time t = 19.817484395052666\n",
            "Time t = 20.401305539260463\n",
            "Time t = 21.017561191479803\n",
            "Time t = 21.6013823356876\n",
            "Time t = 22.21763798790694\n",
            "Time t = 22.801459132114736\n",
            "Time t = 23.417714784334077\n",
            "Time t = 24.001535928541873\n",
            "Time t = 24.617791580761214\n",
            "Time t = 25.20161272496901\n",
            "Time t = 25.81786837718835\n",
            "Time t = 26.401689521396147\n",
            "Time t = 27.017945173615487\n",
            "Time t = 27.601766317823284\n",
            "Time t = 28.218021970042624\n",
            "Time t = 28.80184311425042\n",
            "Time t = 29.41809876646976\n",
            "results-NS/\n",
            "results-NS/u000014.vtu\n",
            "results-NS/p000045.vtu\n",
            "results-NS/p000022.vtu\n",
            "results-NS/u000005.vtu\n",
            "results-NS/p000042.vtu\n",
            "results-NS/p000027.vtu\n",
            "results-NS/u000018.vtu\n",
            "results-NS/p000040.vtu\n",
            "results-NS/p000044.vtu\n",
            "results-NS/u000047.vtu\n",
            "results-NS/u000042.vtu\n",
            "results-NS/u000044.vtu\n",
            "results-NS/u000010.vtu\n",
            "results-NS/p000015.vtu\n",
            "results-NS/p000006.vtu\n",
            "results-NS/p000037.vtu\n",
            "results-NS/u000000.vtu\n",
            "results-NS/u000046.vtu\n",
            "results-NS/u000004.vtu\n",
            "results-NS/p000018.vtu\n",
            "results-NS/u000035.vtu\n",
            "results-NS/p000016.vtu\n",
            "results-NS/p000034.vtu\n",
            "results-NS/u000036.vtu\n",
            "results-NS/p000019.vtu\n",
            "results-NS/u000008.vtu\n",
            "results-NS/u000015.vtu\n",
            "results-NS/u000011.vtu\n",
            "results-NS/p000003.vtu\n",
            "results-NS/u000001.vtu\n",
            "results-NS/p000017.vtu\n",
            "results-NS/u000023.vtu\n",
            "results-NS/u000027.vtu\n",
            "results-NS/u.pvd\n",
            "results-NS/u000002.vtu\n",
            "results-NS/p000033.vtu\n",
            "results-NS/u000048.vtu\n",
            "results-NS/u000043.vtu\n",
            "results-NS/u000049.vtu\n",
            "results-NS/u000028.vtu\n",
            "results-NS/p000002.vtu\n",
            "results-NS/u000009.vtu\n",
            "results-NS/p000047.vtu\n",
            "results-NS/p000026.vtu\n",
            "results-NS/u000037.vtu\n",
            "results-NS/p000010.vtu\n",
            "results-NS/p000004.vtu\n",
            "results-NS/p000021.vtu\n",
            "results-NS/u000022.vtu\n",
            "results-NS/p000007.vtu\n",
            "results-NS/p000009.vtu\n",
            "results-NS/p000020.vtu\n",
            "results-NS/p000023.vtu\n",
            "results-NS/u000039.vtu\n",
            "results-NS/p000035.vtu\n",
            "results-NS/u000017.vtu\n",
            "results-NS/u000006.vtu\n",
            "results-NS/p000024.vtu\n",
            "results-NS/u000032.vtu\n",
            "results-NS/p000049.vtu\n",
            "results-NS/u000031.vtu\n",
            "results-NS/u000025.vtu\n",
            "results-NS/p000025.vtu\n",
            "results-NS/u000038.vtu\n",
            "results-NS/u000029.vtu\n",
            "results-NS/p000014.vtu\n",
            "results-NS/p000043.vtu\n",
            "results-NS/u000033.vtu\n",
            "results-NS/p.pvd\n",
            "results-NS/u000026.vtu\n",
            "results-NS/p000046.vtu\n",
            "results-NS/u000012.vtu\n",
            "results-NS/u000019.vtu\n",
            "results-NS/p000038.vtu\n",
            "results-NS/p000008.vtu\n",
            "results-NS/u000007.vtu\n",
            "results-NS/p000012.vtu\n",
            "results-NS/u000003.vtu\n",
            "results-NS/p000011.vtu\n",
            "results-NS/u000034.vtu\n",
            "results-NS/p000000.vtu\n",
            "results-NS/p000036.vtu\n",
            "results-NS/u000016.vtu\n",
            "results-NS/p000032.vtu\n",
            "results-NS/p000048.vtu\n",
            "results-NS/p000030.vtu\n",
            "results-NS/p000028.vtu\n",
            "results-NS/p000039.vtu\n",
            "results-NS/u000024.vtu\n",
            "results-NS/p000031.vtu\n",
            "results-NS/p000041.vtu\n",
            "results-NS/p000005.vtu\n",
            "results-NS/u000045.vtu\n",
            "results-NS/p000001.vtu\n",
            "results-NS/p000029.vtu\n",
            "results-NS/p000013.vtu\n",
            "results-NS/u000020.vtu\n",
            "results-NS/u000013.vtu\n",
            "results-NS/u000021.vtu\n",
            "results-NS/u000040.vtu\n",
            "results-NS/u000041.vtu\n",
            "results-NS/u000030.vtu\n"
          ]
        },
        {
          "output_type": "display_data",
          "data": {
            "text/plain": [
              "<IPython.core.display.Javascript object>"
            ],
            "application/javascript": [
              "\n",
              "    async function download(id, filename, size) {\n",
              "      if (!google.colab.kernel.accessAllowed) {\n",
              "        return;\n",
              "      }\n",
              "      const div = document.createElement('div');\n",
              "      const label = document.createElement('label');\n",
              "      label.textContent = `Downloading \"${filename}\": `;\n",
              "      div.appendChild(label);\n",
              "      const progress = document.createElement('progress');\n",
              "      progress.max = size;\n",
              "      div.appendChild(progress);\n",
              "      document.body.appendChild(div);\n",
              "\n",
              "      const buffers = [];\n",
              "      let downloaded = 0;\n",
              "\n",
              "      const channel = await google.colab.kernel.comms.open(id);\n",
              "      // Send a message to notify the kernel that we're ready.\n",
              "      channel.send({})\n",
              "\n",
              "      for await (const message of channel.messages) {\n",
              "        // Send a message to notify the kernel that we're ready.\n",
              "        channel.send({})\n",
              "        if (message.buffers) {\n",
              "          for (const buffer of message.buffers) {\n",
              "            buffers.push(buffer);\n",
              "            downloaded += buffer.byteLength;\n",
              "            progress.value = downloaded;\n",
              "          }\n",
              "        }\n",
              "      }\n",
              "      const blob = new Blob(buffers, {type: 'application/binary'});\n",
              "      const a = document.createElement('a');\n",
              "      a.href = window.URL.createObjectURL(blob);\n",
              "      a.download = filename;\n",
              "      div.appendChild(a);\n",
              "      a.click();\n",
              "      div.remove();\n",
              "    }\n",
              "  "
            ]
          },
          "metadata": {}
        },
        {
          "output_type": "display_data",
          "data": {
            "text/plain": [
              "<IPython.core.display.Javascript object>"
            ],
            "application/javascript": [
              "download(\"download_f2610170-18c3-4f95-85d4-ca63beb5f918\", \"results-NS.tar.gz\", 3368468)"
            ]
          },
          "metadata": {}
        }
      ]
    },
    {
      "cell_type": "code",
      "source": [
        "# Drag and lift coefficients\n",
        "# Only calculating for when the force is more steady\n",
        "F_lift_avg = sum(force_array[2000:-1]) / len(force_array[2000:-1])\n",
        "c_l = 2*F_lift_avg/(1*uin**2*D)\n",
        "\n",
        "F_drag_avg = sum(force_array_d[2000:-1]) / len(force_array_d[2000:-1])\n",
        "c_d = 2*F_drag_avg/(1*uin**2*D)\n",
        "\n",
        "print(\"Lift force = \",  str(F_lift_avg))\n",
        "print(\"Drag force = \",  str(F_drag_avg))\n",
        "\n",
        "print(\"c_l = \",  str(c_l))\n",
        "print(\"c_d = \",  str(c_d))\n",
        "\n",
        "\n",
        "# Strouhal number\n",
        "T = 2\n",
        "f = 1/T\n",
        "L = 0.18\n",
        "St = f*L/uin\n",
        "print(\"Strouhal number: \", str(St))\n"
      ],
      "metadata": {
        "id": "4tMDHBb2dTQH",
        "colab": {
          "base_uri": "https://localhost:8080/"
        },
        "outputId": "b12455c9-af95-417c-b1ed-b54cff304f67"
      },
      "execution_count": 148,
      "outputs": [
        {
          "output_type": "stream",
          "name": "stdout",
          "text": [
            "Lift force =  0.0\n",
            "Drag force =  0.0\n",
            "c_l =  0.0\n",
            "c_d =  0.0\n",
            "Strouhal number:  0.09\n"
          ]
        }
      ]
    },
    {
      "cell_type": "markdown",
      "source": [
        "**Result tables**"
      ],
      "metadata": {
        "id": "rp9Ok3-mgfG1"
      }
    },
    {
      "cell_type": "markdown",
      "source": [
        "| Reynolds number  | Stable (Y/N) | c_l | c_d| St |\n",
        "|-----------------|-----------------|-----------------|-----------------|-----------------|\n",
        "| 1    | Y | 0.69 | 115.91 | ? |\n",
        "| 10   | Y | 0.27 | 18.45  | ? |\n",
        "| 100  | N | 0.16 | 8.6    | 0.2 |\n",
        "| 1000 | N | 0.41 | 6.01   | 16 |\n"
      ],
      "metadata": {
        "id": "n4F508IbdsaD"
      }
    },
    {
      "cell_type": "markdown",
      "source": [
        "| Mesh resolution  | Stable (Y/N) | c_l | c_d| St |\n",
        "|-----------------|-----------------|-----------------|-----------------|-----------------|\n",
        "| 1/8    | Y | -0.059 | 14.95 | * |\n",
        "| 1/16   | Y | -0.0596 | 10.45  | 0.1 |\n",
        "| 1/32  | N | 0.16 | 8.6    | 0.2 |"
      ],
      "metadata": {
        "id": "_kUxEWc0ABLG"
      }
    },
    {
      "cell_type": "markdown",
      "source": [
        "**Link to results from Paraview**"
      ],
      "metadata": {
        "id": "zIdWUjyFRIPQ"
      }
    },
    {
      "cell_type": "markdown",
      "source": [
        "The results for Re=100 where saved and the results where viewed in Paraview."
      ],
      "metadata": {
        "id": "gtn598xuRliz"
      }
    },
    {
      "cell_type": "code",
      "source": [
        "# Simulation of flow\n",
        "# https://drive.google.com/file/d/1htpldZ9SZbPgVT5UBdXx9rRpjkEKIb3E/view?usp=drive_link\n",
        "\n",
        "# Simulation of flow with glyphs\n",
        "# https://drive.google.com/file/d/11UMnqCD53QWv3q5hNyviTc6uwRHgh39j/view?usp=drive_link"
      ],
      "metadata": {
        "id": "9tyRdE3tNlie"
      },
      "execution_count": 149,
      "outputs": []
    },
    {
      "cell_type": "markdown",
      "metadata": {
        "id": "_4GLBv0zWr7m"
      },
      "source": [
        "# **Discussion**"
      ]
    },
    {
      "cell_type": "markdown",
      "metadata": {
        "id": "6bcsDSoRXHZe"
      },
      "source": [
        "A stabilized finite element method was implemented in FEniCS to solve the Navier-Stokes equations in 2D. The method was tested for the model problem of flow past a circular obstacle, and for a high enough Reynolds number and sufficient mesh resolution [a von Karman vortex street developed as expected.](https://en.wikipedia.org/wiki/Kármán_vortex_street)\n",
        "\n",
        "The flow was steady for Reynolds number 1 and 10, but oscillating for Re 100 and 1000. The von Karman vortex street had a Strouhal number of approximately 0.2, which was expected. The Strouhal number was not calculated for Re = 1 and 10, because the force had no oscillations and therefore a frequency could not be read.\n",
        "\n",
        "The drag coefficient increased for lower mesh resolutions, for Re = 100, while the lift coefficient decreased. The Strouhal number also decreased, and for mesh resolution 8 there where no oscillations and the Strouhal number could not be computed."
      ]
    }
  ]
}